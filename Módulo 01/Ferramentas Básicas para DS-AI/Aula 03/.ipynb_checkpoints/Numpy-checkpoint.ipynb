{
 "cells": [
  {
   "cell_type": "code",
   "execution_count": null,
   "metadata": {},
   "outputs": [],
   "source": [
    "#CRIANDO OBJETOS NDARRAY\n",
    "import numpy as np\n",
    "\n",
    "# DE 1 DIMENSÃO\n",
    "a = np.array([1, 2, 3])\n",
    "\n",
    "# DE 2 DIMENSÕES\n",
    "b = np.array([(1, 2, 3), (4, 5, 6)], dtype=np.bool)\n",
    "\n",
    "# DE 3 DIMENSÕES\n",
    "c = np.array([[(1, 5, 2, 3), (4, 5, 6)], (2, 3, 5, 7), (1, 3, 4)])"
   ]
  },
  {
   "cell_type": "code",
   "execution_count": null,
   "metadata": {},
   "outputs": [],
   "source": [
    "np.zeros([3, 4, 5])\n",
    "\n",
    "np.ones([2, 3, 4], dtype=np.int16)\n",
    "\n",
    "np.full((2, 2), 7)"
   ]
  },
  {
   "cell_type": "code",
   "execution_count": null,
   "metadata": {},
   "outputs": [],
   "source": []
  }
 ],
 "metadata": {
  "kernelspec": {
   "display_name": "Python 3",
   "language": "python",
   "name": "python3"
  },
  "language_info": {
   "codemirror_mode": {
    "name": "ipython",
    "version": 3
   },
   "file_extension": ".py",
   "mimetype": "text/x-python",
   "name": "python",
   "nbconvert_exporter": "python",
   "pygments_lexer": "ipython3",
   "version": "3.7.4"
  }
 },
 "nbformat": 4,
 "nbformat_minor": 2
}
