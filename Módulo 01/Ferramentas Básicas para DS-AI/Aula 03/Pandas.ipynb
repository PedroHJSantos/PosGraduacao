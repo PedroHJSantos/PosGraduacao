{
 "cells": [
  {
   "cell_type": "code",
   "execution_count": 1,
   "metadata": {},
   "outputs": [],
   "source": [
    "import numpy as np\n",
    "import pandas as pd"
   ]
  },
  {
   "cell_type": "code",
   "execution_count": 4,
   "metadata": {},
   "outputs": [],
   "source": [
    "df = pd.read_csv(\"/home/pedro/Documents/UniBH/Pós-Graduação/Módulo 01/Ferramentas Básicas para DS-AI/Aula 03/titanic.csv\")\n",
    "\n",
    "df"
   ]
  },
  {
   "cell_type": "code",
   "execution_count": 3,
   "metadata": {},
   "outputs": [],
   "source": [
    "# VERIFICAR TIPOS DE DADOS\n",
    "df.dtypes"
   ]
  },
  {
   "cell_type": "code",
   "execution_count": 4,
   "metadata": {},
   "outputs": [],
   "source": [
    "# DESCREVER DADOS ESTATÍSTICOS\n",
    "df.describe()"
   ]
  },
  {
   "cell_type": "code",
   "execution_count": 5,
   "metadata": {},
   "outputs": [],
   "source": [
    "# HEAD E TAIL\n",
    "df.head(10)\n",
    "df.tail(10)"
   ]
  },
  {
   "cell_type": "code",
   "execution_count": 6,
   "metadata": {},
   "outputs": [],
   "source": [
    "#CONVERTE PARA CATEGÓRICOS\n",
    "df[\"Pclass\"] = df[\"Pclass\"].astype(\"O\")"
   ]
  },
  {
   "cell_type": "code",
   "execution_count": 7,
   "metadata": {},
   "outputs": [],
   "source": [
    "# EXTRAIR COLUNAS CATEGÓRICAS\n",
    "df[[c for c in df.columns if df[c].dtypes == \"O\"]]"
   ]
  },
  {
   "cell_type": "code",
   "execution_count": 8,
   "metadata": {},
   "outputs": [],
   "source": [
    "# EXTRAIR COLUNAS NUMÉRICAS\n",
    "df[[c for c in df.columns if df[c].dtypes != \"O\"]]"
   ]
  },
  {
   "cell_type": "markdown",
   "metadata": {},
   "outputs": [],
   "source": [
    "**EXERCÍCIO**\n",
    "\n",
    "QUANTAS FEATURES NUMÉRICAS DISCRETAS?\n",
    "4 - Survived, Age, SibSp, Parch\n",
    "\n",
    "QUANTAS FEATURES NUMÉRICAS CONTÍNUAS?\n",
    "1 - Fare\n",
    "\n",
    "QUANTAS FEATURES NUMÉRICAS BINÁRIAS?\n",
    "1 - Survived\n",
    "\n",
    "QUANTAS FEATURES DICOTOMICAS?\n",
    "2 - Survived, Sex"
   ]
  },
  {
   "cell_type": "code",
   "execution_count": 9,
   "metadata": {},
   "outputs": [],
   "source": [
    "# PERCENTUAL DE ELEMENTOS NULOS\n",
    "round(df.isnull().mean()*100,2)"
   ]
  },
  {
   "cell_type": "code",
   "execution_count": 10,
   "metadata": {},
   "outputs": [],
   "source": [
    "# QUANTIDADES RELATIVAS DE PASSAGEIROS POR:\n",
    "\n",
    "# SEXO\n",
    "df[\"Sex\"].value_counts().plot(kind=\"bar\")"
   ]
  },
  {
   "cell_type": "code",
   "execution_count": 11,
   "metadata": {},
   "outputs": [],
   "source": [
    "# EMBARQUE\n",
    "df[\"Embarked\"].value_counts(dropna=False)"
   ]
  },
  {
   "cell_type": "code",
   "execution_count": 12,
   "metadata": {},
   "outputs": [],
   "source": [
    "# CABINE\n",
    "df[\"Cabin\"].value_counts(dropna=False)"
   ]
  },
  {
   "cell_type": "code",
   "execution_count": 13,
   "metadata": {},
   "outputs": [],
   "source": [
    "# SOBREVIVÊNCIA\n",
    "df[\"Survived\"].value_counts(normalize=True)"
   ]
  },
  {
   "cell_type": "code",
   "execution_count": 14,
   "metadata": {},
   "outputs": [],
   "source": [
    "# COMO ESTÃO DISTRIBUIDAS AS IDADES:\n",
    "# TOTAL\n",
    "df[\"Age\"].plot(kind=\"hist\")"
   ]
  },
  {
   "cell_type": "code",
   "execution_count": 15,
   "metadata": {},
   "outputs": [],
   "source": [
    "# COMO ESTÃO DISTRIBUIDAS AS IDADES:\n",
    "# SOMENTE HOMENS\n",
    "df[df[\"Sex\"] == \"male\"][\"Age\"].plot(kind=\"hist\")"
   ]
  },
  {
   "cell_type": "code",
   "execution_count": 16,
   "metadata": {},
   "outputs": [],
   "source": [
    "# COMO ESTÃO DISTRIBUIDAS AS IDADES:\n",
    "# SOMENTE MULHERES\n",
    "df[df[\"Sex\"] == \"female\"][\"Age\"].plot(kind=\"hist\")"
   ]
  },
  {
   "cell_type": "code",
   "execution_count": 17,
   "metadata": {},
   "outputs": [],
   "source": [
    "# COMO ESTÁ A TAXA DE SOBEVIVENCIA:\n",
    "# TOTAL\n",
    "df[\"Survived\"].value_counts(normalize=True)"
   ]
  },
  {
   "cell_type": "code",
   "execution_count": 18,
   "metadata": {},
   "outputs": [],
   "source": [
    "# COMO ESTÁ A TAXA DE SOBEVIVENCIA:\n",
    "# SOMENTE HOMENS\n",
    "df[df[\"Sex\"] == \"male\"][\"Survived\"].value_counts(normalize=True)"
   ]
  },
  {
   "cell_type": "code",
   "execution_count": 19,
   "metadata": {},
   "outputs": [],
   "source": [
    "# COMO ESTÁ A TAXA DE SOBEVIVENCIA:\n",
    "# SOMENTE MULHERES\n",
    "df[df[\"Sex\"] == \"female\"][\"Survived\"].value_counts(normalize=True)"
   ]
  },
  {
   "cell_type": "code",
   "execution_count": 20,
   "metadata": {},
   "outputs": [],
   "source": [
    "# O PASSAGEIRO QUE POSSUI 80 ANOS SOBREVIVEU?\n",
    "df[df[\"Age\"] > 75]"
   ]
  },
  {
   "cell_type": "code",
   "execution_count": 21,
   "metadata": {},
   "outputs": [],
   "source": [
    "# CRIE UMA FAIXA DE IDADE\n",
    "\n",
    "# CRIANÇA: 0 - 14 ANOS\n",
    "# ADOLESCENTE: 15 - 21 ANOS\n",
    "# ADULTO: 22 A 60 ANOS\n",
    "# IDOSO: +61\n",
    "\n",
    "bins = [0, 14, 21, 60, np.inf]\n",
    "labels = [\"crianca\", \"adolescente\", \"adulto\", \"idoso\"]\n",
    "\n",
    "df[\"faixa_etaria\"] = pd.cut(df[\"Age\"], bins, labels=labels)"
   ]
  },
  {
   "cell_type": "code",
   "execution_count": 22,
   "metadata": {},
   "outputs": [],
   "source": [
    "df[[\"faixa_etaria\", \"Age\"]].head(20)"
   ]
  },
  {
   "cell_type": "code",
   "execution_count": 23,
   "metadata": {},
   "outputs": [],
   "source": [
    "# GOD MODE!!!\n",
    "import pandas_profiling\n",
    "pandas_profiling.ProfileReport(df)"
   ]
  }
 ],
 "metadata": {
  "kernelspec": {
   "display_name": "Python 3",
   "language": "python",
   "name": "python3"
  },
  "language_info": {
   "codemirror_mode": {
    "name": "ipython",
    "version": 3
   },
   "file_extension": ".py",
   "mimetype": "text/x-python",
   "name": "python",
   "nbconvert_exporter": "python",
   "pygments_lexer": "ipython3",
   "version": "3.7.4"
  }
 },
 "nbformat": 4,
 "nbformat_minor": 2
}