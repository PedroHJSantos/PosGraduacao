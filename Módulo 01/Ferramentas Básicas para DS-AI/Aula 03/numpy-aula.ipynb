{
  "nbformat": 4,
  "nbformat_minor": 0,
  "metadata": {
    "colab": {
      "name": "Copy of numpy.ipynb",
      "provenance": [],
      "collapsed_sections": []
    },
    "kernelspec": {
      "name": "python3",
      "display_name": "Python 3"
    }
  },
  "cells": [
    {
      "cell_type": "code",
      "metadata": {
        "id": "EWvhXxqsaeJF",
        "colab_type": "code",
        "outputId": "905c9c22-c3bc-424d-eebf-1c7ceb8f498d",
        "colab": {
          "base_uri": "https://localhost:8080/",
          "height": 34
        }
      },
      "source": [
        "import numpy as np\n",
        "np.__version__"
      ],
      "execution_count": 0,
      "outputs": [
        {
          "output_type": "execute_result",
          "data": {
            "text/plain": [
              "'1.17.3'"
            ]
          },
          "metadata": {
            "tags": []
          },
          "execution_count": 24
        }
      ]
    },
    {
      "cell_type": "code",
      "metadata": {
        "id": "QqOV4CgPeo64",
        "colab_type": "code",
        "colab": {}
      },
      "source": [
        "# CRIANDO OBJETOS NDARRAY\n",
        "a = np.array([5,10,30,12,25,2]) \n",
        "b = np.array([(1.5,2,3), (4,5,6)], dtype = float) \n",
        "c = np.array([[(1.5,2,3), (4,5,6)], [(3,2,1), (4,5,6)]], dtype = float)"
      ],
      "execution_count": 0,
      "outputs": []
    },
    {
      "cell_type": "code",
      "metadata": {
        "id": "W6MTaoiPjlFY",
        "colab_type": "code",
        "outputId": "5d6d08f4-1db7-46d2-9f7a-004b9bb35010",
        "colab": {
          "base_uri": "https://localhost:8080/",
          "height": 119
        }
      },
      "source": [
        "# ALGUNS TIPOS DE DADOS DO NUMPY\n",
        "print(np.int64) # INTEIRO COM SINAL DE 64 BITS (-9223372036854775808 ate 9223372036854775807))\n",
        "print(np.float32)\n",
        "print(np.complex)\n",
        "print(np.bool)\n",
        "print(np.object)\n",
        "print(np.string_)"
      ],
      "execution_count": 0,
      "outputs": [
        {
          "output_type": "stream",
          "text": [
            "<class 'numpy.int64'>\n",
            "<class 'numpy.float32'>\n",
            "<class 'complex'>\n",
            "<class 'bool'>\n",
            "<class 'object'>\n",
            "<class 'numpy.bytes_'>\n"
          ],
          "name": "stdout"
        }
      ]
    },
    {
      "cell_type": "code",
      "metadata": {
        "id": "MmvRm-t0gHK_",
        "colab_type": "code",
        "outputId": "ac211e58-80f5-4b12-9e93-8f7e58505a65",
        "colab": {
          "base_uri": "https://localhost:8080/",
          "height": 255
        }
      },
      "source": [
        "# NDARRAY DE 0s\n",
        "np.zeros((3,4,5))"
      ],
      "execution_count": 0,
      "outputs": [
        {
          "output_type": "execute_result",
          "data": {
            "text/plain": [
              "array([[[0., 0., 0., 0., 0.],\n",
              "        [0., 0., 0., 0., 0.],\n",
              "        [0., 0., 0., 0., 0.],\n",
              "        [0., 0., 0., 0., 0.]],\n",
              "\n",
              "       [[0., 0., 0., 0., 0.],\n",
              "        [0., 0., 0., 0., 0.],\n",
              "        [0., 0., 0., 0., 0.],\n",
              "        [0., 0., 0., 0., 0.]],\n",
              "\n",
              "       [[0., 0., 0., 0., 0.],\n",
              "        [0., 0., 0., 0., 0.],\n",
              "        [0., 0., 0., 0., 0.],\n",
              "        [0., 0., 0., 0., 0.]]])"
            ]
          },
          "metadata": {
            "tags": []
          },
          "execution_count": 27
        }
      ]
    },
    {
      "cell_type": "code",
      "metadata": {
        "id": "B2ycjsQXgZJe",
        "colab_type": "code",
        "outputId": "2dfb7b84-fbd1-4d63-f0da-13f0e8d7a37c",
        "colab": {
          "base_uri": "https://localhost:8080/",
          "height": 136
        }
      },
      "source": [
        "# NDARRAY DE 1s\n",
        "np.ones((2,3,4), dtype=np.int16)"
      ],
      "execution_count": 0,
      "outputs": [
        {
          "output_type": "execute_result",
          "data": {
            "text/plain": [
              "array([[[1, 1, 1, 1],\n",
              "        [1, 1, 1, 1],\n",
              "        [1, 1, 1, 1]],\n",
              "\n",
              "       [[1, 1, 1, 1],\n",
              "        [1, 1, 1, 1],\n",
              "        [1, 1, 1, 1]]], dtype=int16)"
            ]
          },
          "metadata": {
            "tags": []
          },
          "execution_count": 28
        }
      ]
    },
    {
      "cell_type": "code",
      "metadata": {
        "id": "-IhK_m_UgjvH",
        "colab_type": "code",
        "outputId": "c092eadb-7578-46ee-9448-a025730000aa",
        "colab": {
          "base_uri": "https://localhost:8080/",
          "height": 34
        }
      },
      "source": [
        "# 1D-ARRAY COM VALORES DE 10 A 20, COM PASSOS DE 5\n",
        "np.arange(10, 30, 5) "
      ],
      "execution_count": 0,
      "outputs": [
        {
          "output_type": "execute_result",
          "data": {
            "text/plain": [
              "array([10, 15, 20, 25])"
            ]
          },
          "metadata": {
            "tags": []
          },
          "execution_count": 29
        }
      ]
    },
    {
      "cell_type": "code",
      "metadata": {
        "id": "fSJQ8t5TgVDW",
        "colab_type": "code",
        "outputId": "36d525ce-0688-42e4-eb6a-1f1014d8ed9b",
        "colab": {
          "base_uri": "https://localhost:8080/",
          "height": 187
        }
      },
      "source": [
        "# NDARRAY COM 50 Nºs ESPAÇADOS DE 0 A 10\n",
        "np.linspace(0, 1, 50) "
      ],
      "execution_count": 0,
      "outputs": [
        {
          "output_type": "execute_result",
          "data": {
            "text/plain": [
              "array([0.        , 0.02040816, 0.04081633, 0.06122449, 0.08163265,\n",
              "       0.10204082, 0.12244898, 0.14285714, 0.16326531, 0.18367347,\n",
              "       0.20408163, 0.2244898 , 0.24489796, 0.26530612, 0.28571429,\n",
              "       0.30612245, 0.32653061, 0.34693878, 0.36734694, 0.3877551 ,\n",
              "       0.40816327, 0.42857143, 0.44897959, 0.46938776, 0.48979592,\n",
              "       0.51020408, 0.53061224, 0.55102041, 0.57142857, 0.59183673,\n",
              "       0.6122449 , 0.63265306, 0.65306122, 0.67346939, 0.69387755,\n",
              "       0.71428571, 0.73469388, 0.75510204, 0.7755102 , 0.79591837,\n",
              "       0.81632653, 0.83673469, 0.85714286, 0.87755102, 0.89795918,\n",
              "       0.91836735, 0.93877551, 0.95918367, 0.97959184, 1.        ])"
            ]
          },
          "metadata": {
            "tags": []
          },
          "execution_count": 30
        }
      ]
    },
    {
      "cell_type": "code",
      "metadata": {
        "id": "-ZXJ8DgHnIgm",
        "colab_type": "code",
        "outputId": "6e2cd303-161a-435b-9e5d-50b1e1e7398d",
        "colab": {
          "base_uri": "https://localhost:8080/",
          "height": 51
        }
      },
      "source": [
        "# NDARRAY DE CONSTANTES\n",
        "np.full((2, 2), 7) "
      ],
      "execution_count": 0,
      "outputs": [
        {
          "output_type": "execute_result",
          "data": {
            "text/plain": [
              "array([[7, 7],\n",
              "       [7, 7]])"
            ]
          },
          "metadata": {
            "tags": []
          },
          "execution_count": 31
        }
      ]
    },
    {
      "cell_type": "code",
      "metadata": {
        "id": "6S3mom8_nJ30",
        "colab_type": "code",
        "outputId": "162e8210-e345-4648-ec90-cd48d02c20d1",
        "colab": {
          "base_uri": "https://localhost:8080/",
          "height": 102
        }
      },
      "source": [
        "# NDARRAY DE UMA MATRIZ IDENTIDADE DE TAMANHO 2\n",
        "np.eye(5)"
      ],
      "execution_count": 0,
      "outputs": [
        {
          "output_type": "execute_result",
          "data": {
            "text/plain": [
              "array([[1., 0., 0., 0., 0.],\n",
              "       [0., 1., 0., 0., 0.],\n",
              "       [0., 0., 1., 0., 0.],\n",
              "       [0., 0., 0., 1., 0.],\n",
              "       [0., 0., 0., 0., 1.]])"
            ]
          },
          "metadata": {
            "tags": []
          },
          "execution_count": 32
        }
      ]
    },
    {
      "cell_type": "code",
      "metadata": {
        "id": "RG8AvYlZnLCk",
        "colab_type": "code",
        "outputId": "e9b80fdd-5adb-448d-9285-2cfdcecbeba8",
        "colab": {
          "base_uri": "https://localhost:8080/",
          "height": 102
        }
      },
      "source": [
        "# NDARRAY ALEATORIA DE 2 DIMENSÕES\n",
        "np.random.random((2, 2, 3))"
      ],
      "execution_count": 0,
      "outputs": [
        {
          "output_type": "execute_result",
          "data": {
            "text/plain": [
              "array([[[0.76104584, 0.94641606, 0.47174277],\n",
              "        [0.92680293, 0.71367626, 0.59826769]],\n",
              "\n",
              "       [[0.65474787, 0.3073728 , 0.95544112],\n",
              "        [0.49718361, 0.95144545, 0.24078769]]])"
            ]
          },
          "metadata": {
            "tags": []
          },
          "execution_count": 33
        }
      ]
    },
    {
      "cell_type": "code",
      "metadata": {
        "id": "zErmH-ZmnL4c",
        "colab_type": "code",
        "outputId": "0c1cd7e2-26b3-4f64-df74-a33d67b30396",
        "colab": {
          "base_uri": "https://localhost:8080/",
          "height": 68
        }
      },
      "source": [
        "# NDARRAY VAZIA DE 2 DIMENSÕES\n",
        "np.empty((3,2)) "
      ],
      "execution_count": 0,
      "outputs": [
        {
          "output_type": "execute_result",
          "data": {
            "text/plain": [
              "array([[1.46100745e-316, 0.00000000e+000],\n",
              "       [0.00000000e+000, 0.00000000e+000],\n",
              "       [0.00000000e+000, 0.00000000e+000]])"
            ]
          },
          "metadata": {
            "tags": []
          },
          "execution_count": 34
        }
      ]
    },
    {
      "cell_type": "code",
      "metadata": {
        "id": "TT3v87DkcOMw",
        "colab_type": "code",
        "outputId": "99a89e2b-389f-445f-cff8-ac9420ac7abd",
        "colab": {
          "base_uri": "https://localhost:8080/",
          "height": 34
        }
      },
      "source": [
        "# CRIANDO OBJETOS NDARRAY ALEATÓRIO DE 1 DIMENSÃO\n",
        "x1 = np.random.randint(10, size=5)\n",
        "x1"
      ],
      "execution_count": 0,
      "outputs": [
        {
          "output_type": "execute_result",
          "data": {
            "text/plain": [
              "array([6, 2, 7, 6, 1])"
            ]
          },
          "metadata": {
            "tags": []
          },
          "execution_count": 35
        }
      ]
    },
    {
      "cell_type": "code",
      "metadata": {
        "id": "cdYo352uc_iv",
        "colab_type": "code",
        "outputId": "675477f1-9935-4f93-904d-fa069fe5b57e",
        "colab": {
          "base_uri": "https://localhost:8080/",
          "height": 136
        }
      },
      "source": [
        "print(x1)\n",
        "print(\"tipo: \", type(x1))\n",
        "print(\"dimensões: \", x1.ndim)\n",
        "print(\"formato (shape):\", x1.shape)\n",
        "print(\"tamanho: \", x1.size)\n",
        "print(\"tipo dos dados (dtype):\", x1.dtype)\n",
        "print(np.info(x1))"
      ],
      "execution_count": 0,
      "outputs": [
        {
          "output_type": "stream",
          "text": [
            "[6 2 7 6 1]\n",
            "tipo:  <class 'numpy.ndarray'>\n",
            "dimensões:  1\n",
            "formato (shape): (5,)\n",
            "tamanho:  5\n",
            "tipo dos dados (dtype): int64\n",
            "None\n"
          ],
          "name": "stdout"
        }
      ]
    },
    {
      "cell_type": "code",
      "metadata": {
        "id": "zSSwCbOIavrg",
        "colab_type": "code",
        "outputId": "a7b1dd8e-2e05-466c-c1c4-1ca94d7c6ccb",
        "colab": {
          "base_uri": "https://localhost:8080/",
          "height": 68
        }
      },
      "source": [
        "# CRIANDO OBJETOS NDARRAY ALEATÓRIO DE 2 DIMENSÃO\n",
        "x2 = np.random.randint(10, size=(3, 4))\n",
        "x2"
      ],
      "execution_count": 0,
      "outputs": [
        {
          "output_type": "execute_result",
          "data": {
            "text/plain": [
              "array([[6, 7, 2, 5],\n",
              "       [0, 5, 7, 6],\n",
              "       [4, 0, 5, 8]])"
            ]
          },
          "metadata": {
            "tags": []
          },
          "execution_count": 37
        }
      ]
    },
    {
      "cell_type": "code",
      "metadata": {
        "id": "rCcud6nsdFW-",
        "colab_type": "code",
        "outputId": "eb0ef6a5-975d-49cb-c97b-2bce6eca0779",
        "colab": {
          "base_uri": "https://localhost:8080/",
          "height": 153
        }
      },
      "source": [
        "print(x2)\n",
        "print(\"tipo: \", type(x2))\n",
        "print(\"dimensões: \", x2.ndim)\n",
        "print(\"formato (shape):\", x2.shape)\n",
        "print(\"tamanho: \", x2.size)\n",
        "print(\"tipo dos dados (dtype):\", x1.dtype)"
      ],
      "execution_count": 0,
      "outputs": [
        {
          "output_type": "stream",
          "text": [
            "[[6 7 2 5]\n",
            " [0 5 7 6]\n",
            " [4 0 5 8]]\n",
            "tipo:  <class 'numpy.ndarray'>\n",
            "dimensões:  2\n",
            "formato (shape): (3, 4)\n",
            "tamanho:  12\n",
            "tipo dos dados (dtype): int64\n"
          ],
          "name": "stdout"
        }
      ]
    },
    {
      "cell_type": "code",
      "metadata": {
        "id": "D0AXCkHzcRHW",
        "colab_type": "code",
        "outputId": "209f5e24-75be-484b-95ea-a086209996e8",
        "colab": {
          "base_uri": "https://localhost:8080/",
          "height": 255
        }
      },
      "source": [
        "# CRIANDO OBJETOS NDARRAY ALEATÓRIO DE 3 DIMENSÃO\n",
        "x3 = np.random.randint(10, size=(3, 4, 5))\n",
        "x3"
      ],
      "execution_count": 0,
      "outputs": [
        {
          "output_type": "execute_result",
          "data": {
            "text/plain": [
              "array([[[2, 1, 8, 6, 4],\n",
              "        [0, 1, 0, 6, 3],\n",
              "        [9, 7, 7, 7, 3],\n",
              "        [5, 6, 1, 6, 7]],\n",
              "\n",
              "       [[3, 0, 4, 8, 0],\n",
              "        [8, 7, 2, 9, 7],\n",
              "        [5, 7, 5, 5, 6],\n",
              "        [3, 3, 5, 2, 3]],\n",
              "\n",
              "       [[6, 9, 7, 4, 8],\n",
              "        [7, 2, 3, 7, 1],\n",
              "        [0, 2, 7, 7, 1],\n",
              "        [4, 9, 9, 4, 5]]])"
            ]
          },
          "metadata": {
            "tags": []
          },
          "execution_count": 39
        }
      ]
    },
    {
      "cell_type": "code",
      "metadata": {
        "id": "H-8mDO5FdI6H",
        "colab_type": "code",
        "outputId": "f0af827c-38ad-4e10-a3fb-01d54ca31a49",
        "colab": {
          "base_uri": "https://localhost:8080/",
          "height": 340
        }
      },
      "source": [
        "print(x3)\n",
        "print(\"tipo: \", type(x3))\n",
        "print(\"dimensões: \", x3.ndim)\n",
        "print(\"formato (shape):\", x3.shape)\n",
        "print(\"tamanho: \", x3.size)\n",
        "print(\"tipo dos dados (dtype):\", x3.dtype)"
      ],
      "execution_count": 0,
      "outputs": [
        {
          "output_type": "stream",
          "text": [
            "[[[2 1 8 6 4]\n",
            "  [0 1 0 6 3]\n",
            "  [9 7 7 7 3]\n",
            "  [5 6 1 6 7]]\n",
            "\n",
            " [[3 0 4 8 0]\n",
            "  [8 7 2 9 7]\n",
            "  [5 7 5 5 6]\n",
            "  [3 3 5 2 3]]\n",
            "\n",
            " [[6 9 7 4 8]\n",
            "  [7 2 3 7 1]\n",
            "  [0 2 7 7 1]\n",
            "  [4 9 9 4 5]]]\n",
            "tipo:  <class 'numpy.ndarray'>\n",
            "dimensões:  3\n",
            "formato (shape): (3, 4, 5)\n",
            "tamanho:  60\n",
            "tipo dos dados (dtype): int64\n"
          ],
          "name": "stdout"
        }
      ]
    },
    {
      "cell_type": "code",
      "metadata": {
        "id": "hoB8NcFgud-K",
        "colab_type": "code",
        "outputId": "f2c3738e-6106-4142-c448-1a7bf579e3dc",
        "colab": {
          "base_uri": "https://localhost:8080/",
          "height": 34
        }
      },
      "source": [
        "# COMPARAÇÃO LÓGICO ELEMENTE POR ELEMENTO\n",
        "a < 25"
      ],
      "execution_count": 0,
      "outputs": [
        {
          "output_type": "execute_result",
          "data": {
            "text/plain": [
              "array([ True,  True,  True, False, False])"
            ]
          },
          "metadata": {
            "tags": []
          },
          "execution_count": 47
        }
      ]
    },
    {
      "cell_type": "code",
      "metadata": {
        "id": "jJ-6rH5DuoCN",
        "colab_type": "code",
        "outputId": "7e6a601d-bf51-45de-b383-893a5de19808",
        "colab": {
          "base_uri": "https://localhost:8080/",
          "height": 102
        }
      },
      "source": [
        "# SOMA ACUMULADA\n",
        "x3.cumsum()"
      ],
      "execution_count": 0,
      "outputs": [
        {
          "output_type": "execute_result",
          "data": {
            "text/plain": [
              "array([  2,   3,  11,  17,  21,  21,  22,  22,  28,  31,  40,  47,  54,\n",
              "        61,  64,  69,  75,  76,  82,  89,  92,  92,  96, 104, 104, 112,\n",
              "       119, 121, 130, 137, 142, 149, 154, 159, 165, 168, 171, 176, 178,\n",
              "       181, 187, 196, 203, 207, 215, 222, 224, 227, 234, 235, 235, 237,\n",
              "       244, 251, 252, 256, 265, 274, 278, 283])"
            ]
          },
          "metadata": {
            "tags": []
          },
          "execution_count": 42
        }
      ]
    },
    {
      "cell_type": "code",
      "metadata": {
        "id": "gZ6rGfJ1wYX6",
        "colab_type": "code",
        "outputId": "35dea154-f3eb-4d23-c0c4-c5131df02572",
        "colab": {
          "base_uri": "https://localhost:8080/",
          "height": 34
        }
      },
      "source": [
        "# ANTES DE ORDERNAR a\n",
        "a"
      ],
      "execution_count": 0,
      "outputs": [
        {
          "output_type": "execute_result",
          "data": {
            "text/plain": [
              "array([ 5, 10, 30, 12, 25])"
            ]
          },
          "metadata": {
            "tags": []
          },
          "execution_count": 43
        }
      ]
    },
    {
      "cell_type": "code",
      "metadata": {
        "id": "2LUasEVPw-M1",
        "colab_type": "code",
        "colab": {}
      },
      "source": [
        "# ORDENAÇÃO DE ELEMENTOS\n",
        "a.sort()"
      ],
      "execution_count": 0,
      "outputs": []
    },
    {
      "cell_type": "code",
      "metadata": {
        "id": "2hs9d1MbwXsC",
        "colab_type": "code",
        "outputId": "80235be1-d94b-4898-bf4e-825392725368",
        "colab": {
          "base_uri": "https://localhost:8080/",
          "height": 34
        }
      },
      "source": [
        "# DEPOIS DE ORDENAR a\n",
        "a"
      ],
      "execution_count": 0,
      "outputs": [
        {
          "output_type": "execute_result",
          "data": {
            "text/plain": [
              "array([ 5, 10, 12, 25, 30])"
            ]
          },
          "metadata": {
            "tags": []
          },
          "execution_count": 45
        }
      ]
    },
    {
      "cell_type": "code",
      "metadata": {
        "id": "iu6i1992wsMD",
        "colab_type": "code",
        "outputId": "9a509dc0-075a-4411-e623-cee5de2d2c64",
        "colab": {
          "base_uri": "https://localhost:8080/",
          "height": 34
        }
      },
      "source": [
        "# INSERE ELEMENTO NO FINAL\n",
        "np.append(a, 20)"
      ],
      "execution_count": 0,
      "outputs": [
        {
          "output_type": "execute_result",
          "data": {
            "text/plain": [
              "array([ 5, 10, 30, 12, 25,  2, 20])"
            ]
          },
          "metadata": {
            "tags": []
          },
          "execution_count": 53
        }
      ]
    },
    {
      "cell_type": "code",
      "metadata": {
        "id": "tgF7Z0rnwwv6",
        "colab_type": "code",
        "outputId": "341bd08b-c668-43dd-ff5e-9f68460c0526",
        "colab": {
          "base_uri": "https://localhost:8080/",
          "height": 34
        }
      },
      "source": [
        "# INSERE ELEMENTO 2 NA POSIÇÃO 0\n",
        "np.insert(a, 0, 2)"
      ],
      "execution_count": 0,
      "outputs": [
        {
          "output_type": "execute_result",
          "data": {
            "text/plain": [
              "array([ 2,  5, 10, 30, 12, 25,  2])"
            ]
          },
          "metadata": {
            "tags": []
          },
          "execution_count": 54
        }
      ]
    },
    {
      "cell_type": "code",
      "metadata": {
        "id": "JPEhGcpvwwMa",
        "colab_type": "code",
        "outputId": "35862751-8831-4c86-8574-c8ae4ecb2b88",
        "colab": {
          "base_uri": "https://localhost:8080/",
          "height": 34
        }
      },
      "source": [
        "# DELETE O PRIMEIRO ELEMENTO 2\n",
        "np.delete(a, 2)"
      ],
      "execution_count": 0,
      "outputs": [
        {
          "output_type": "execute_result",
          "data": {
            "text/plain": [
              "array([ 5, 10, 12, 25,  2])"
            ]
          },
          "metadata": {
            "tags": []
          },
          "execution_count": 55
        }
      ]
    }
  ]
}