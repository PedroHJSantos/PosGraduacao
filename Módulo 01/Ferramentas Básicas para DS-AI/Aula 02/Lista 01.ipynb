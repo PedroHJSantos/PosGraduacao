{
 "cells": [
  {
   "cell_type": "markdown",
   "metadata": {},
   "source": [
    "**LISTA DE EXERCÍCIOS**"
   ]
  },
  {
   "cell_type": "markdown",
   "metadata": {},
   "source": [
    "EXERCÍCIO 1 - FAÇA UM SCRIPT VERIFIQUE SE UM NÚMERO (*num*) É PAR OU IMPAR:"
   ]
  },
  {
   "cell_type": "code",
   "execution_count": null,
   "metadata": {},
   "outputs": [],
   "source": [
    "import random\n",
    "\n",
    "num = random.randint(1, 100)\n",
    "\n",
    "print(num)\n",
    "\n",
    "if num % 2 == 0:\n",
    "    print(\"Número par\")\n",
    "else:\n",
    "    print(\"Número ímpar\")"
   ]
  },
  {
   "cell_type": "markdown",
   "metadata": {},
   "source": [
    "EXERCÍCIO 2 - FAÇA UMA SCRIPT QUE CALCULA UMA EXPRESSÃO MATEMÁTICA DADO 2 INTEIROS (*num1, num2 e op*) E UM OPERADOR (String = '+', '-', '*', '/'):"
   ]
  },
  {
   "cell_type": "code",
   "execution_count": null,
   "metadata": {},
   "outputs": [],
   "source": [
    "import random\n",
    "\n",
    "num1 = random.randint(0, 100)\n",
    "num2 = random.randint(0, 100)\n",
    "op = ['+', '-', '*', '/'][random.randint(0, 3)]\n",
    "\n",
    "print(num1, num2, op)\n",
    "\n",
    "if op == \"+\":\n",
    "    result = num1 + num2\n",
    "elif op == \"-\":\n",
    "    result = num1 - num2\n",
    "elif op == \"*\":\n",
    "    result = num1 * num2\n",
    "else:\n",
    "    result = num1 / num2\n",
    "    \n",
    "print(result)"
   ]
  },
  {
   "cell_type": "markdown",
   "metadata": {},
   "source": [
    "EXERCÍCIO 3 - FAÇA UM SCRIPT QUE IDENTIFIQUE SE UM NÚMERO INTEIRO (*num*) É PRIMO OU NÃO"
   ]
  },
  {
   "cell_type": "code",
   "execution_count": null,
   "metadata": {},
   "outputs": [],
   "source": [
    "import random\n",
    "\n",
    "num = random.randint(1, 100)\n",
    "\n",
    "print(num)\n",
    "\n",
    "if (num % 2 == 0 and num != 2) or (num % 3 == 0 and num != 3) or (num % 5 == 0 and num != 5):\n",
    "    print(\"Este número não é primo!\")\n",
    "else:\n",
    "    print(\"Este número é primo!\")"
   ]
  },
  {
   "cell_type": "markdown",
   "metadata": {},
   "source": [
    "EXERCÍCIO 4 - FAÇA UM SCRIPT QUER RETORNE DE UMA LISTA DE INTEIROS (*lista*):\n",
    "\n",
    "*   MAIOR ELEMENTO\n",
    "*   MENOR ELEMENTO\n",
    "*   TAMANHO\n",
    "\n",
    "**DESAFIO:** NÃO USE FUNÇÕES *min(), max() e len()*!"
   ]
  },
  {
   "cell_type": "code",
   "execution_count": null,
   "metadata": {},
   "outputs": [],
   "source": [
    "import random\n",
    "\n",
    "lista = [random.randint(0,10) for i in range(5)]\n",
    "         \n",
    "print(lista)\n",
    "\n",
    "maior = 0\n",
    "menor = 0\n",
    "tamanho = 0\n",
    "\n",
    "for element in lista:\n",
    "    if element > maior:\n",
    "        maior = element\n",
    "    if (element < menor) or (menor == 0):\n",
    "        menor = element\n",
    "    tamanho += 1\n",
    "    \n",
    "print(\"O maior elemento é: {0}\\nO menor elemento é: {1}\\nO tamanho da lista é: {2}\".format(maior, menor, tamanho))"
   ]
  },
  {
   "cell_type": "markdown",
   "metadata": {},
   "source": [
    "EXERCÍCIO 5 - FAÇA UM SCRIPT QUE RETORNE DE UMA LISTA DE INTEIROS (*lista*):\n",
    "\n",
    "* A MEDIA\n",
    "* A MEDIANA\n",
    "* A MODA"
   ]
  },
  {
   "cell_type": "code",
   "execution_count": null,
   "metadata": {},
   "outputs": [],
   "source": [
    "import random\n",
    "import math\n",
    "\n",
    "lista = [random.randint(0,10) for i in range(5)]\n",
    "\n",
    "print(lista)\n",
    "\n",
    "media = 0\n",
    "moda = {}\n",
    "for element in lista:\n",
    "    media += element\n",
    "    #Moda\n",
    "    if not element in moda:\n",
    "        moda[element] = 0\n",
    "    moda[element] += 1\n",
    "    \n",
    "#Ordenação da lista para cálculo da mediana\n",
    "x = 0\n",
    "y = x + 1\n",
    "idx_aux = 0\n",
    "while x < len(lista):\n",
    "    while y < len(lista):\n",
    "        if (lista[x] > lista[y]):\n",
    "            idx_aux = lista[x]\n",
    "            lista[x] = lista[y]\n",
    "            lista[y] = idx_aux\n",
    "        y += 1\n",
    "    x += 1\n",
    "    y = x + 1\n",
    "\n",
    "#Cálculo mediana\n",
    "mediana = lista[math.ceil(len(lista) / 2) - 1]\n",
    "    \n",
    "print(\"Média: {}\\nModa: {}\\nMediana: {}\".format(media, max(moda.keys()), mediana))"
   ]
  },
  {
   "cell_type": "markdown",
   "metadata": {},
   "source": [
    "EXERCÍCIO 6 - FAÇA UMA FUNÇÃO QUE TENHA COMO ENTRADA UMA LISTA DE INTEIROS (*idades*) E RETORNE UMA LISTA COM AS FAIXAS DE CADA IDADE, DE ACORDO COM AS REGRAS A SEGUIR:\n",
    "* '<18', \n",
    "* '18 A 21', \n",
    "* '22 A 27', \n",
    "* '28 A 35', \n",
    "* '36 A 50', \n",
    "* '51 A 65', \n",
    "* '65+'"
   ]
  },
  {
   "cell_type": "code",
   "execution_count": null,
   "metadata": {},
   "outputs": [],
   "source": [
    "import random\n",
    "\n",
    "idades = [random.randint(5, 95) for i in range(100)]\n",
    "\n",
    "print(idades)\n",
    "\n",
    "def obtemFaixaIdade(idade):\n",
    "    if idade < 18:\n",
    "        return \"<18\"\n",
    "    elif idade < 21:\n",
    "        return \"18 A 21\"\n",
    "    elif idade < 28:\n",
    "        return \"22 A 27\"\n",
    "    elif idade < 36:\n",
    "        return \"28 A 35\"\n",
    "    elif idade < 51:\n",
    "        return \"36 A 50\"\n",
    "    elif idade <= 65:\n",
    "        return \"51 A 65\"\n",
    "    else:\n",
    "        return \"65+\"\n",
    "\n",
    "count = 0\n",
    "while count < len(idades):\n",
    "    idades[count] = obtemFaixaIdade(idades[count])\n",
    "    count += 1\n",
    "    \n",
    "print(\"\\n\\n*****Faixas de idade*****\\n\\n\",idades)"
   ]
  },
  {
   "cell_type": "markdown",
   "metadata": {},
   "source": [
    "EXERCÍCIO 7 - DADA UM LISTA (*cabecalho*) CONTENDO O CABEÇALHO DE UMA TABELA, FAÇA AS SEGUINTES TRANSFORMAÇÕES:\n",
    "\n",
    "* Remova espaços a direita e a esquerda (função \\<string\\>.strip())\n",
    "* Deixe todas a letras maiúsculas (função \\<string\\>.upper())\n",
    "* substitua \" \" (espaços) por \"_\" (função \\<string\\>.replace())"
   ]
  },
  {
   "cell_type": "code",
   "execution_count": null,
   "metadata": {},
   "outputs": [],
   "source": [
    "cabecalho = [\"nome \", \"IdadE\", \"data de nascimento\", \"endereco\", \" cpf\", \"Valor Devido\", \"Valor ja pago\"]\n",
    "\n",
    "count = 0\n",
    "while count < len(cabecalho):\n",
    "    cabecalho[count] = cabecalho[count].strip().upper().replace(\" \", \"_\")\n",
    "    count += 1\n",
    "    \n",
    "print(cabecalho)"
   ]
  }
 ],
 "metadata": {
  "kernelspec": {
   "display_name": "Python 3",
   "language": "python",
   "name": "python3"
  },
  "language_info": {
   "codemirror_mode": {
    "name": "ipython",
    "version": 3
   },
   "file_extension": ".py",
   "mimetype": "text/x-python",
   "name": "python",
   "nbconvert_exporter": "python",
   "pygments_lexer": "ipython3",
   "version": "3.7.4"
  }
 },
 "nbformat": 4,
 "nbformat_minor": 2
}
