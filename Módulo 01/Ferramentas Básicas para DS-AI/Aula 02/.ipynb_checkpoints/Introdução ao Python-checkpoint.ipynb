{
 "cells": [
  {
   "cell_type": "code",
   "execution_count": null,
   "metadata": {},
   "outputs": [],
   "source": [
    "# MEU PRIMEIRO SCRIPT PYTHON\n",
    "import random\n",
    "\n",
    "print(\"Hello World!\")\n",
    "help(str)\n",
    "dir(str)\n"
   ]
  },
  {
   "cell_type": "code",
   "execution_count": null,
   "metadata": {},
   "outputs": [],
   "source": [
    "#STRING\n",
    "texto = \"Primeiro texto\"\n",
    "print(texto)\n",
    "print(type(texto))\n",
    "\n",
    "texto = texto.upper()\n",
    "texto.split()"
   ]
  },
  {
   "cell_type": "code",
   "execution_count": null,
   "metadata": {},
   "outputs": [],
   "source": [
    "#INTEGER\n",
    "inteiro = 42\n",
    "print(inteiro)\n",
    "print(type(inteiro))"
   ]
  },
  {
   "cell_type": "code",
   "execution_count": null,
   "metadata": {},
   "outputs": [],
   "source": [
    "#FLOAT\n",
    "flutuante = 32.\n",
    "print(flutuante)\n",
    "print(type(flutuante))"
   ]
  },
  {
   "cell_type": "code",
   "execution_count": null,
   "metadata": {},
   "outputs": [],
   "source": [
    "#BOOLEAN\n",
    "verdadeiro = True\n",
    "falso = False\n",
    "print(verdadeiro, type(verdadeiro))"
   ]
  },
  {
   "cell_type": "code",
   "execution_count": null,
   "metadata": {},
   "outputs": [],
   "source": [
    "#CONVERSÕES\n",
    "texto = \"42\"\n",
    "print(type(texto))\n",
    "print(type(int(texto)))"
   ]
  },
  {
   "cell_type": "code",
   "execution_count": null,
   "metadata": {},
   "outputs": [],
   "source": [
    "#OPERADORES MATEMÁTICOS\n",
    "num1 = 32\n",
    "num2 = 10\n",
    "\n",
    "print(num1 + num2)\n",
    "print(num1 - num2)\n",
    "print(num1 * num2)\n",
    "print(num1 / num2)\n",
    "print(num1 ** num2)\n",
    "print(num1 % num2)"
   ]
  },
  {
   "cell_type": "code",
   "execution_count": null,
   "metadata": {},
   "outputs": [],
   "source": [
    "#OPERADORES RELACIONAIS\n",
    "num1 = 36\n",
    "num2 = 20\n",
    "\n",
    "print(num1 == num2)\n",
    "print(num1 != num2)\n",
    "print(num1 > num2)\n",
    "print(num1 < num2)\n",
    "print(num1 >= num2)\n",
    "print(num1 <= num2)"
   ]
  },
  {
   "cell_type": "code",
   "execution_count": null,
   "metadata": {},
   "outputs": [],
   "source": [
    "#OPERADORES LÓGICOS\n",
    "sexo = \"M\"\n",
    "idade = 17\n",
    "\n",
    "print(sexo == \"M\" and idade > 18)\n",
    "print(sexo == \"M\" or idade > 18)\n",
    "print(not sexo == \"M\")"
   ]
  },
  {
   "cell_type": "code",
   "execution_count": null,
   "metadata": {},
   "outputs": [],
   "source": [
    "#FUNÇÕES MATEMÁTICAS\n",
    "import math as m\n",
    "\n",
    "m.ceil(1.00001)\n",
    "m.floor(1.99999999)"
   ]
  },
  {
   "cell_type": "code",
   "execution_count": null,
   "metadata": {},
   "outputs": [],
   "source": [
    "#ESTRUTURAS CONDICIONAIS\n",
    "idade = 18\n",
    "\n",
    "if idade >= 60:\n",
    "    print(\"Melhor idade\")\n",
    "elif idade >= 18:\n",
    "    print(\"Maior de idade\")\n",
    "else: \n",
    "    print(\"Menor de idade\")"
   ]
  },
  {
   "cell_type": "code",
   "execution_count": null,
   "metadata": {},
   "outputs": [],
   "source": [
    "#LISTAS E TUPLAS\n",
    "lista = [1, 2, 3, \"4\", True]\n",
    "lista[0] = 2\n",
    "lista\n",
    "\n",
    "tupla = (1, 5, 9, 18)\n",
    "x, y, z, w = tupla\n",
    "print(x, y, z, w)"
   ]
  },
  {
   "cell_type": "code",
   "execution_count": null,
   "metadata": {},
   "outputs": [],
   "source": [
    "#DICIONÁRIOS\n",
    "dicionario = {\"Chave1\": 2, \"Chave2\": 2, \"Chave5\": 1, \"Chave7\": 1, \"Chave8\": 3}\n",
    "\n",
    "print(dicionario)\n",
    "print(dicionario.keys())\n",
    "print(dicionario.values())"
   ]
  },
  {
   "cell_type": "code",
   "execution_count": null,
   "metadata": {},
   "outputs": [],
   "source": [
    "#ESTRUTURAS DE REPETIÇÕES\n",
    "lista = [1, 1, 2, 2, 5, 7, 8, 8, 8]\n",
    "\n",
    "moda = {}\n",
    "\n",
    "for e in lista:\n",
    "    if not e in moda:\n",
    "        moda[e] = 0\n",
    "    moda[e] += 1\n",
    "    \n",
    "max(moda.values())"
   ]
  },
  {
   "cell_type": "code",
   "execution_count": null,
   "metadata": {},
   "outputs": [],
   "source": [
    "#FUNÇÕES\n",
    "\n",
    "def soma(a, b):\n",
    "    return a + b\n",
    "\n",
    "soma = lambda a, b: a + b\n",
    "\n",
    "def subt(a, b):\n",
    "    return a - b\n",
    "\n",
    "subt = lambda a, b: a - b"
   ]
  }
 ],
 "metadata": {
  "kernelspec": {
   "display_name": "Python 3",
   "language": "python",
   "name": "python3"
  },
  "language_info": {
   "codemirror_mode": {
    "name": "ipython",
    "version": 3
   },
   "file_extension": ".py",
   "mimetype": "text/x-python",
   "name": "python",
   "nbconvert_exporter": "python",
   "pygments_lexer": "ipython3",
   "version": "3.7.4"
  }
 },
 "nbformat": 4,
 "nbformat_minor": 2
}
