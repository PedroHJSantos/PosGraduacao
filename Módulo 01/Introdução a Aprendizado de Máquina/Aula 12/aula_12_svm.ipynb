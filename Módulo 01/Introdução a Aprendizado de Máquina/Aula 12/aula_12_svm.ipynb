{
 "cells": [
  {
   "cell_type": "markdown",
   "metadata": {
    "colab_type": "text",
    "id": "vqErHLDaIwif"
   },
   "outputs": [],
   "source": [
    "# Aula 12 - Support Vector Machine (SVMs)"
   ]
  },
  {
   "cell_type": "markdown",
   "metadata": {},
   "outputs": [],
   "source": [
    "<img width=300 src=\"Aula 12/images/svm_intro.png\" />\n"
   ]
  },
  {
   "cell_type": "markdown",
   "metadata": {
    "colab_type": "text",
    "id": "OH6VtkwmJpjC"
   },
   "outputs": [],
   "source": [
    "# Pontos Importantes:\n",
    "\n",
    "<a href=\"https://www.sli.do/\"> <img width=300 src=\"Aula 12/images/slido-logo.png\"/> </a>\n",
    "\n",
    "\n",
    "\n",
    "## 0. Me façam perguntas durante a aula no Sli.do:\n",
    "    \n",
    "    1. Link: https://sli.do ou  https://app.sli.do/event/clvhrpw0\n",
    "    2. Código (#): aula12\n",
    "\n",
    "## 1. O seu feedback é importante para nossa melhoria continua:\n",
    "\n",
    "    1. 4 pessoas já comentaram.\n",
    "    2. Link para submeter seu comentário: https://forms.gle/fyGZXbajM6rTo7Mv9\n",
    "\n"
   ]
  },
  {
   "cell_type": "markdown",
   "metadata": {},
   "outputs": [],
   "source": [
    "## 2. Usem o Slack da turma mais:\n",
    "\n",
    "    1. Compartilhem novidades do universo da Ciência de Dados.\n",
    "    2. Façam perguntas, sejam gerais ou específicas.\n",
    "    3. Conheçam a turma e seus colegas, juntos essa jornada será mais fácil.\n",
    " \n",
    "\n",
    "<img width=500 src=\"Aula 12/images/feedback.png\" />\n"
   ]
  },
  {
   "cell_type": "markdown",
   "metadata": {
    "colab_type": "text",
    "id": "1usWYF5fHzG8"
   },
   "outputs": [],
   "source": [
    "# Support Vector Machines | Máquina de vetores de suporte"
   ]
  },
  {
   "cell_type": "markdown",
   "metadata": {
    "colab_type": "text",
    "id": "TO-U66qhHzHA"
   },
   "outputs": [],
   "source": [
    "* Este nome da medo, e a intuição deste método é bem mais simples do que imaginamos.\n",
    "* É um método particularmente poderoso, flexível para classificação supervisionada.\n",
    "* É para muitas pessoas um dos métodos mais díficieis de complexos, mas você vai entender."
   ]
  },
  {
   "cell_type": "markdown",
   "metadata": {},
   "outputs": [],
   "source": [
    "# Objetivos da aula\n",
    "\n",
    "1. Criar um *toy example* para vermos SVM em ação.\n",
    "2. Kernel Trick.\n",
    "3. O C da questão.\n",
    "4. [Tentativa] Criar um classificador de faces humanas. "
   ]
  },
  {
   "cell_type": "markdown",
   "metadata": {},
   "outputs": [],
   "source": [
    "## Importando bibliotecas necessárias"
   ]
  },
  {
   "cell_type": "code",
   "metadata": {
    "colab": {},
    "colab_type": "code",
    "id": "hLOmJU-6HzHC"
   },
   "outputs": [],
   "source": [
    "%matplotlib inline\n",
    "import numpy as np\n",
    "import matplotlib.pyplot as plt\n",
    "from scipy import stats\n",
    "\n",
    "# Vamos usar seaborn hoje, para deixar nossos gráficos um pouco mais bonitos\n",
    "import seaborn as sns; sns.set()\n",
    "from ipywidgets import interact, fixed"
   ]
  },
  {
   "cell_type": "markdown",
   "metadata": {
    "colab_type": "text",
    "id": "Ge2a-vrpHzHJ"
   },
   "outputs": [],
   "source": [
    "## Toy Example: Dividir duas classes de bolinhas"
   ]
  },
  {
   "cell_type": "markdown",
   "metadata": {
    "colab_type": "text",
    "id": "D4ha3R3UHzHM"
   },
   "outputs": [],
   "source": [
    "* Na aula passada mostrei como criar 2 classes de bolinhas. Mas existe uma função no sklearn para isso."
   ]
  },
  {
   "cell_type": "code",
   "metadata": {
    "colab": {},
    "colab_type": "code",
    "id": "gSPM9nk8HzHN",
    "outputId": "8b7aa4fc-2c0c-4f2c-b290-204aedd0f0d4"
   },
   "outputs": [],
   "source": [
    "from sklearn.datasets.samples_generator import make_blobs\n",
    "\n",
    "# Parametros:\n",
    "\n",
    "X, y = make_blobs(n_samples=50, centers=2, random_state=0, cluster_std=0.6)\n",
    "\n",
    "\n",
    "# Plotando as bolinhas\n",
    "plt.scatter(X[:, 0], X[:, 1], c=y, s=50, cmap='winter');\n",
    "\n",
    "# Matplolib tem varias paletas de cores interessante\n",
    "# Cmap: [\"autumn\", \"Wistia\" ... ] https://matplotlib.org/3.1.1/gallery/color/colormap_reference.html\n",
    "\n"
   ]
  },
  {
   "cell_type": "markdown",
   "metadata": {
    "colab_type": "text",
    "id": "8rQdAH2tHzHU"
   },
   "outputs": [],
   "source": [
    "# Como podemos traçar uma reta que divide as classes?\n",
    "\n",
    "* Há infinitas retas que dividem estas duas classes perfeitamente.\n",
    "* Dependendo da forma que você traçar estas retas, um dado novo, nunca visto receberá diferentes classificações.\n",
    "* Devemos traçar uma reta que minimize a chance deste novo dado estar errado.\n"
   ]
  },
  {
   "cell_type": "code",
   "metadata": {
    "colab": {},
    "colab_type": "code",
    "id": "GaUBMqXFHzHW",
    "outputId": "0d38c79c-f449-43cb-f482-c06a0671a42f"
   },
   "outputs": [],
   "source": [
    "xfit = np.linspace(-1, 3.5)\n",
    "plt.scatter(X[:, 0], X[:, 1], c=y, s=50, cmap='winter')\n",
    "plt.plot([0.6], [2.1], 'x', color='red', markeredgewidth=2, markersize=10)\n",
    "\n",
    "for m, b in [(1, 0.65), (0.5, 1.6), (-0.2, 2.9)]:\n",
    "    plt.plot(xfit, m * xfit + b, '-k')\n",
    "\n",
    "plt.xlim(-1, 3.5);"
   ]
  },
  {
   "cell_type": "markdown",
   "metadata": {
    "colab_type": "text",
    "id": "MsxN0c3PHzHc"
   },
   "outputs": [],
   "source": [
    "## SVMs maximizam a margem da reta\n",
    "\n",
    "* A intuição é achar a reta que tem a margem maximizada entre as duas classes.\n",
    "* Lembre-se a margem que é importante e teremos um parâmetro especifico para ela. (famoso C).\n",
    "* Se a margem for muito grande, quer dizer que penalizamos mais os erros, mas podemos sofrer de overffiting.\n",
    "* Se a margem for muito pequena, quer dizer que aceitamos penalizar menos os erros, mas pode resultar em um modelo fraco\n",
    "* Achar o C correto é o X da questão."
   ]
  },
  {
   "cell_type": "code",
   "metadata": {
    "colab": {},
    "colab_type": "code",
    "id": "8IRFBuNHHzHd",
    "outputId": "b0c0c233-d8ed-45c2-991d-4eb7a6768d53"
   },
   "outputs": [],
   "source": [
    "xfit = np.linspace(-1, 3.5)\n",
    "plt.scatter(X[:, 0], X[:, 1], c=y, s=50, cmap='winter')\n",
    "\n",
    "for angulo, constante, margem in [(1, 0.65, 0.33), (0.5, 1.6, 0.55), (-0.2, 2.9, 0.2)]:\n",
    "    yfit = angulo * xfit + constante\n",
    "    plt.plot(xfit, yfit, '-k')\n",
    "    plt.fill_between(xfit, yfit - margem, yfit + margem, edgecolor='none',\n",
    "                     color='#AAAAAA', alpha=0.4)\n",
    "\n",
    "plt.xlim(-1, 3.5);"
   ]
  },
  {
   "cell_type": "markdown",
   "metadata": {
    "colab_type": "text",
    "id": "rXHOpUHkHzHi"
   },
   "outputs": [],
   "source": [
    "# Treinando um modelo SVM\n",
    "\n",
    "* Vamos ver o resultado utilizando Scikit-Learn.\n",
    "* Utilizaremos um Kernel Linear\n",
    "* Utilizaremos um C bem largo inicialmente (depois discutiremos mais sobre C). "
   ]
  },
  {
   "cell_type": "code",
   "metadata": {
    "colab": {},
    "colab_type": "code",
    "id": "q17vQx4THzHj",
    "outputId": "faa3de2a-c936-4136-e492-61d42fb7fa91"
   },
   "outputs": [],
   "source": [
    "from sklearn.svm import SVC # \"Support vector classifier\"\n",
    "model = SVC(kernel='linear', C=10000000000)\n",
    "model.fit(X, y)"
   ]
  },
  {
   "cell_type": "markdown",
   "metadata": {
    "colab_type": "text",
    "id": "KPu42f10HzHn"
   },
   "outputs": [],
   "source": [
    "### Visualizando o modelo criado"
   ]
  },
  {
   "cell_type": "code",
   "metadata": {
    "colab": {},
    "colab_type": "code",
    "id": "3KFz122sHzHo"
   },
   "outputs": [],
   "source": [
    "def plot_svc_decision_function(model, ax=None, plot_support=True):\n",
    "    \"\"\"Plot the decision function for a 2D SVC\"\"\"\n",
    "    if ax is None:\n",
    "        ax = plt.gca()\n",
    "    xlim = ax.get_xlim()\n",
    "    ylim = ax.get_ylim()\n",
    "    \n",
    "    # Cria um grid onde o modelo é avaliado\n",
    "    x = np.linspace(xlim[0], xlim[1], 30)\n",
    "    y = np.linspace(ylim[0], ylim[1], 30)\n",
    "    Y, X = np.meshgrid(y, x)\n",
    "    xy = np.vstack([X.ravel(), Y.ravel()]).T\n",
    "    P = model.decision_function(xy).reshape(X.shape)\n",
    "    # plot decision boundary and margins\n",
    "    ax.contour(X, Y, P, colors='k', levels=[-1, 0, 1], alpha=0.5,\n",
    "               linestyles=['--', '-', '--'])\n",
    "    \n",
    "    # plot support vectors\n",
    "    if plot_support:\n",
    "        ax.scatter(model.support_vectors_[:, 0],\n",
    "                   model.support_vectors_[:, 1],\n",
    "                   s=300, linewidth=1, facecolors='none');\n",
    "    ax.set_xlim(xlim)\n",
    "    ax.set_ylim(ylim)"
   ]
  },
  {
   "cell_type": "code",
   "metadata": {
    "colab": {},
    "colab_type": "code",
    "id": "X9pJUnSLHzHr",
    "outputId": "70b7e383-4ff3-4a26-c1b1-9210b09757c0"
   },
   "outputs": [],
   "source": [
    "plt.scatter(X[:, 0], X[:, 1], c=y, s=50, cmap='winter')\n",
    "plot_svc_decision_function(model);\n"
   ]
  },
  {
   "cell_type": "markdown",
   "metadata": {},
   "outputs": [],
   "source": [
    "### Observações\n",
    "\n",
    "* Apenas os pontos proximo a margem são considerados. São eles que formam os \"vetores de suporte\" do nome SVM.\n",
    "* Mesmo alterando os pontos \"atrás\" do vetor de suporte, o modelo não muda.\n",
    "\n",
    "<img width=300 src=\"Aula 12/images/support_vectors.png\" />"
   ]
  },
  {
   "cell_type": "code",
   "metadata": {},
   "outputs": [],
   "source": [
    "# Voce consegue acessar os pontos que formam os support vectors diretamente\n",
    "model.support_vectors_"
   ]
  },
  {
   "cell_type": "markdown",
   "metadata": {},
   "outputs": [],
   "source": [
    "### Exemplo: Mesma distribuição com diferentes quantidades de pontos"
   ]
  },
  {
   "cell_type": "code",
   "metadata": {
    "colab": {},
    "colab_type": "code",
    "id": "Y8jIOZhOHzH0",
    "outputId": "cbd4e177-3426-42b3-cc70-498688e4e3d6"
   },
   "outputs": [],
   "source": [
    "def plot_svm(N=10, ax=None):\n",
    "    X, y = make_blobs(n_samples=200, centers=2,\n",
    "                      random_state=0, cluster_std=0.60)\n",
    "    X = X[:N]\n",
    "    y = y[:N]\n",
    "    model = SVC(kernel='linear', C=1E10)\n",
    "    model.fit(X, y)\n",
    "    \n",
    "    ax = ax or plt.gca()\n",
    "    ax.scatter(X[:, 0], X[:, 1], c=y, s=50, cmap='winter')\n",
    "    ax.set_xlim(-1, 4)\n",
    "    ax.set_ylim(-1, 6)\n",
    "    plot_svc_decision_function(model, ax)\n",
    "\n",
    "fig, ax = plt.subplots(1, 2, figsize=(16, 6))\n",
    "fig.subplots_adjust(left=0.0625, right=0.95, wspace=0.1)\n",
    "for axi, N in zip(ax, [60, 120]):\n",
    "    plot_svm(N, axi)\n",
    "    axi.set_title('N = {0}'.format(N))"
   ]
  },
  {
   "cell_type": "markdown",
   "metadata": {
    "colab_type": "text",
    "id": "3e7Xnf0pHzH3"
   },
   "outputs": [],
   "source": [
    "#### Observação:\n",
    "* Mesmo dobrando a quantidade de pontos o modelo não mudou, e isso é positivo, pois mostra que o modelo é estável."
   ]
  },
  {
   "cell_type": "markdown",
   "metadata": {
    "colab_type": "text",
    "id": "hcrbu_XkHzH8"
   },
   "outputs": [],
   "source": [
    "#  Kernel Trick\n",
    "\n",
    "1. A ideia do SVM é bem poderosa,precisamos expandir para problemas não lineares.\n",
    "2. Para isso utilizamos o \"Kernel Trick\". É um truque matemático que transforma um problema não linear em um problema linear utilizando uma função.\n",
    "3. Exemplos de kernels: Polinomios, Sigmoid, Gaussian, Radial\n",
    "\n",
    "<img src=\"Aula 12/images/kernel_trick.png\" width=400 />"
   ]
  },
  {
   "cell_type": "markdown",
   "metadata": {},
   "outputs": [],
   "source": [
    "### Exemplo: Utilizando um Kernel  com a função Radial Basis (RBF)"
   ]
  },
  {
   "cell_type": "code",
   "metadata": {
    "colab": {},
    "colab_type": "code",
    "id": "2UU78ZPiHzH9",
    "outputId": "5749ca75-6d76-427a-d2d4-c97743a16c07"
   },
   "outputs": [],
   "source": [
    "from sklearn.datasets.samples_generator import make_circles\n",
    "X, y = make_circles(100, factor=.1, noise=.1, random_state=0)\n",
    "\n",
    "clf = SVC(kernel='linear').fit(X, y)\n",
    "\n",
    "plt.scatter(X[:, 0], X[:, 1], c=y, s=50, cmap='winter')\n",
    "plot_svc_decision_function(clf, plot_support=False);"
   ]
  },
  {
   "cell_type": "markdown",
   "metadata": {},
   "outputs": [],
   "source": [
    "#### Não há como traçar uma reta que separe as duas classes de bolinhas "
   ]
  },
  {
   "cell_type": "code",
   "metadata": {
    "colab": {},
    "colab_type": "code",
    "id": "uzl3Tp5dHzIB"
   },
   "outputs": [],
   "source": [
    "#RBF: Radial Base Function\n",
    "r = np.exp(-(X ** 2).sum(1))"
   ]
  },
  {
   "cell_type": "markdown",
   "metadata": {
    "colab_type": "text",
    "id": "_bVreQR_HzIE"
   },
   "outputs": [],
   "source": [
    "### Visualizando Radial Base Function (RBF)\n",
    "\n",
    "1. Quanto mais proximo do centro, maior o valor de R"
   ]
  },
  {
   "cell_type": "code",
   "metadata": {
    "colab": {},
    "colab_type": "code",
    "id": "Hn3aQ6IIHzIF",
    "outputId": "fdf87fc9-1ea6-4eaf-9df2-bc2302e364ab",
    "scrolled": true
   },
   "outputs": [],
   "source": [
    "from mpl_toolkits import mplot3d\n",
    "\n",
    "def plot_3D(elev=30, azim=30, X=X, y=y):\n",
    "    ax = plt.subplot(projection='3d')\n",
    "    ax.scatter3D(X[:, 0], X[:, 1], r, c=y, s=50, cmap='winter')\n",
    "    ax.view_init(elev=elev, azim=azim)\n",
    "    ax.set_xlabel('x')\n",
    "    ax.set_ylabel('y')\n",
    "    ax.set_zlabel('r')\n",
    "\n",
    "interact(plot_3D, elev=(30, 90), azip=(-180, 180),\n",
    "         X=fixed(X), y=fixed(y));\n"
   ]
  },
  {
   "cell_type": "markdown",
   "metadata": {},
   "outputs": [],
   "source": [
    "#### Pergunta: Após transformar os dados para um espaço tridimensional, você conseguiria traçar uma reta que separa as classes?"
   ]
  },
  {
   "cell_type": "markdown",
   "metadata": {},
   "outputs": [],
   "source": [
    "### Treinando SVM utilizando um kernel RBF"
   ]
  },
  {
   "cell_type": "code",
   "metadata": {
    "colab": {},
    "colab_type": "code",
    "id": "-hEIpIxOHzIJ",
    "outputId": "e7c715b8-a639-470f-888d-c3f0b07b7900"
   },
   "outputs": [],
   "source": [
    "clf = SVC(kernel='rbf', C=1E6)\n",
    "clf.fit(X, y)"
   ]
  },
  {
   "cell_type": "code",
   "metadata": {
    "colab": {},
    "colab_type": "code",
    "id": "lk69Js2xHzIM",
    "outputId": "541c7f0d-95b2-40bf-ab13-ce834e0e6116"
   },
   "outputs": [],
   "source": [
    "plt.scatter(X[:, 0], X[:, 1], c=y, s=50, cmap='winter')\n",
    "plot_svc_decision_function(clf)\n",
    "plt.scatter(clf.support_vectors_[:, 0], clf.support_vectors_[:, 1],\n",
    "            s=300, lw=1, facecolors='none');"
   ]
  },
  {
   "cell_type": "markdown",
   "metadata": {
    "colab_type": "text",
    "id": "emz33CMzHzIQ"
   },
   "outputs": [],
   "source": [
    "* Com o Kernel Trick o SVM consegue modelar conjunto de dados quepossuem decisões não lineares.\n",
    "* Existe todo um arcabouço matemático por traz do Kernel Trick, que foge do escopo desta aula."
   ]
  },
  {
   "cell_type": "markdown",
   "metadata": {
    "colab_type": "text",
    "id": "IhBQUXitHzIR"
   },
   "outputs": [],
   "source": [
    "### Tornando as margens mais flexiveis (o C da Questão: )\n",
    "\n",
    "1. Até agora vimos problemas bem simples, onde é fácil traçar uma reta que separa as classes.\n",
    "2. Mas o que ocorre se o problema for um pouco mais difícil?\n"
   ]
  },
  {
   "cell_type": "code",
   "metadata": {
    "colab": {},
    "colab_type": "code",
    "id": "5KH0EV-3HzIS",
    "outputId": "eae9578a-19a0-45ea-e969-c83094b488db"
   },
   "outputs": [],
   "source": [
    "X, y = make_blobs(n_samples=100, centers=2,\n",
    "                  random_state=0, cluster_std=1.2)\n",
    "plt.scatter(X[:, 0], X[:, 1], c=y, s=50, cmap='winter');"
   ]
  },
  {
   "cell_type": "code",
   "metadata": {},
   "outputs": [],
   "source": [
    "model = SVC(kernel='linear', C=0.01)\n",
    "model.fit(X, y)\n",
    "plt.scatter(X[:, 0], X[:, 1], c=y, s=50, cmap='winter')\n",
    "plot_svc_decision_function(model);"
   ]
  },
  {
   "cell_type": "code",
   "metadata": {},
   "outputs": [],
   "source": [
    "model = SVC(kernel='linear', C=1000000)\n",
    "model.fit(X, y)\n",
    "plt.scatter(X[:, 0], X[:, 1], c=y, s=50, cmap='winter')\n",
    "plot_svc_decision_function(model);"
   ]
  },
  {
   "cell_type": "markdown",
   "metadata": {
    "colab_type": "text",
    "id": "PX1Cu1ecHzIV"
   },
   "outputs": [],
   "source": [
    "1. Valores altos para C, temos uma margem menor. Demora mais para computar.\n",
    "2. Valores baixos para C, a margem é menos rigorosa. Mais rápido para computar."
   ]
  },
  {
   "cell_type": "markdown",
   "metadata": {},
   "outputs": [],
   "source": [
    "### Para encontrar o valor correto para C e qualquer outro hyper-parametro, precisamos de:\n",
    "1. Cross-Validation\n",
    "2. Grid-Search\n"
   ]
  },
  {
   "cell_type": "markdown",
   "metadata": {
    "colab_type": "text",
    "id": "ihW05jS9HzIZ"
   },
   "outputs": [],
   "source": [
    "## Como prometido: Projeto Classificação de Faces de VIPs\n",
    "\n",
    "1. O conjunto de dados é disponibilizado pela biblioteca sklearn.\n",
    "2. Total 5749 pessoas, mas utilizaremos apenas aquelas que tem no minimo 60 fotos.\n",
    "3. V\n",
    "As an example of support vector machines in action, let's take a look at the facial recognition problem.\n",
    "We will use the Labeled Faces in the Wild dataset, which consists of several thousand collated photos of various public figures.\n",
    "A fetcher for the dataset is built into Scikit-Learn:"
   ]
  },
  {
   "cell_type": "code",
   "metadata": {
    "colab": {},
    "colab_type": "code",
    "id": "K6BlvWz_HzIa",
    "outputId": "02a10fbb-4b66-404e-be6d-84e6c66341c6"
   },
   "outputs": [],
   "source": [
    "from sklearn.datasets import fetch_lfw_people\n",
    "from sklearn.svm import SVC\n",
    "from sklearn.decomposition import PCA as RandomizedPCA\n",
    "from sklearn.pipeline import make_pipeline\n",
    "\n",
    "\n",
    "#Demora alguns minutos para rodar...\n",
    "faces = fetch_lfw_people(min_faces_per_person=60)"
   ]
  },
  {
   "cell_type": "markdown",
   "metadata": {},
   "outputs": [],
   "source": [
    "## Uma imagem é formada por 62x47 pixels\n",
    "1. Cada pixel é uma feature.\n",
    "2. Cada pixel é um valor tem um valor entre 0 (preto) e 255 (branco)"
   ]
  },
  {
   "cell_type": "code",
   "metadata": {},
   "outputs": [],
   "source": [
    "n_components = 150\n",
    "pca = RandomizedPCA(n_components=n_components, whiten=True, random_state=42)\n",
    "fig, ax = plt.subplots(1,1)\n",
    "ax.imshow(faces.data[0].reshape(62, 47), cmap='gray')\n",
    "ax.set_xlabel(faces.target_names[faces.target[0]])\n",
    "plt.show()"
   ]
  },
  {
   "cell_type": "markdown",
   "metadata": {},
   "outputs": [],
   "source": [
    "### Utilizando PCA eu consigo diminuir as dimensões da minha imagem"
   ]
  },
  {
   "cell_type": "code",
   "metadata": {},
   "outputs": [],
   "source": [
    "principal_components = pca.fit_transform(faces.data)\n",
    "print(\"Principal Components Shape : \", principal_components.shape)\n",
    "for i in range(5):\n",
    "    values = principal_components[i]\n",
    "    ax = sns.barplot(x = [*range(0,n_components)], y =values)\n",
    "    ax.set_ylabel(faces.target_names[faces.target[i]]) \n",
    "    ax.set_xticks([])\n",
    "    plt.show()\n",
    "    \n"
   ]
  },
  {
   "cell_type": "markdown",
   "metadata": {},
   "outputs": [],
   "source": [
    "### O PCA permite inverter a transformação para a dimensão original"
   ]
  },
  {
   "cell_type": "code",
   "metadata": {},
   "outputs": [],
   "source": [
    "newFaces = pca.inverse_transform(principal_components)\n",
    "\n",
    "fig, ax = plt.subplots(1,1)\n",
    "ax.imshow(newFaces[0].reshape(62, 47), cmap='gray')\n",
    "ax.set_xlabel(faces.target_names[faces.target[0]])\n",
    "plt.show()\n"
   ]
  },
  {
   "cell_type": "markdown",
   "metadata": {
    "colab_type": "text",
    "id": "_6Vv7yCtHzId"
   },
   "outputs": [],
   "source": [
    "### Vamos ver quais são as pessoas que estamos analisando"
   ]
  },
  {
   "cell_type": "code",
   "metadata": {
    "colab": {},
    "colab_type": "code",
    "id": "Ulq_PZsJHzIe",
    "outputId": "fe10beda-538a-44dc-9f49-7cc569285753"
   },
   "outputs": [],
   "source": [
    "fig, ax = plt.subplots(3, 6)\n",
    "for i, axi in enumerate(ax.flat):\n",
    "    axi.imshow(faces.images[i], cmap='bone')\n",
    "    axi.set(xticks=[], yticks=[],\n",
    "            xlabel=faces.target_names[faces.target[i]])\n",
    "print(\"Classes:\", np.unique(faces.target))"
   ]
  },
  {
   "cell_type": "markdown",
   "metadata": {},
   "outputs": [],
   "source": [
    "### Definindo classificador SVM\n",
    "1. Parametros foram escolhidos através de gridsearch"
   ]
  },
  {
   "cell_type": "code",
   "metadata": {
    "colab": {},
    "colab_type": "code",
    "id": "pTUN6pIIHzIh"
   },
   "outputs": [],
   "source": [
    "svc = SVC(kernel='rbf', class_weight='balanced', decision_function_shape='ovr', C = 10, gamma = 0.1)\n",
    "model = make_pipeline(pca, svc)"
   ]
  },
  {
   "cell_type": "markdown",
   "metadata": {
    "colab_type": "text",
    "id": "WbS2krJyHzIj"
   },
   "outputs": [],
   "source": [
    "### Dividindo os dados para treino e teste"
   ]
  },
  {
   "cell_type": "code",
   "metadata": {
    "colab": {},
    "colab_type": "code",
    "id": "xQ9wy455HzIk"
   },
   "outputs": [],
   "source": [
    "from sklearn.model_selection import train_test_split\n",
    "Xtrain, Xtest, ytrain, ytest = train_test_split(faces.data, faces.target,\n",
    "                                                random_state=42)"
   ]
  },
  {
   "cell_type": "markdown",
   "metadata": {
    "colab_type": "text",
    "id": "-wfukCfmHzIn"
   },
   "outputs": [],
   "source": [
    "### Treinando Modelo"
   ]
  },
  {
   "cell_type": "code",
   "metadata": {
    "colab": {},
    "colab_type": "code",
    "id": "fYLLzl9FHzIo",
    "outputId": "202aaff5-98f4-4bbb-b1bf-c45ef18d47c7"
   },
   "outputs": [],
   "source": [
    "model.fit(Xtrain, ytrain)"
   ]
  },
  {
   "cell_type": "markdown",
   "metadata": {
    "colab_type": "text",
    "id": "0TqBVz4vHzIr"
   },
   "outputs": [],
   "source": [
    "### Agora vamos classificar imagens não vista pelo classificador"
   ]
  },
  {
   "cell_type": "code",
   "metadata": {
    "colab": {},
    "colab_type": "code",
    "id": "-SFgcK5wHzIs"
   },
   "outputs": [],
   "source": [
    "yfit = model.predict(Xtest)\n",
    "print(\"Test: \", Xtest.shape)\n",
    "yfit"
   ]
  },
  {
   "cell_type": "markdown",
   "metadata": {
    "colab_type": "text",
    "id": "Mi89cm0IHzIu"
   },
   "outputs": [],
   "source": [
    "### Qualidade do nosos classificador"
   ]
  },
  {
   "cell_type": "code",
   "metadata": {
    "colab": {},
    "colab_type": "code",
    "id": "8BwPXJKZHzIw",
    "outputId": "dd26f87a-9bb4-40b6-a806-9c55baa97104"
   },
   "outputs": [],
   "source": [
    "fig, ax = plt.subplots(5, 5)\n",
    "for i, axi in enumerate(ax.flat):\n",
    "    axi.imshow(Xtest[i].reshape(62, 47), cmap='bone')\n",
    "    axi.set(xticks=[], yticks=[])\n",
    "    axi.set_ylabel(faces.target_names[yfit[i]].split()[-1], color='black' if yfit[i] == ytest[i] else 'red')\n",
    "fig.suptitle('Predicted Names; Incorrect Labels in Red', size=14);"
   ]
  },
  {
   "cell_type": "markdown",
   "metadata": {
    "colab_type": "text",
    "id": "ORd9JjjRHzIy"
   },
   "outputs": [],
   "source": [
    "### Outras métricas do nosso classificador"
   ]
  },
  {
   "cell_type": "code",
   "metadata": {
    "colab": {},
    "colab_type": "code",
    "id": "BdSSumVNHzIz",
    "outputId": "7726b242-6572-47a8-850a-46a7269a2490"
   },
   "outputs": [],
   "source": [
    "from sklearn.metrics import classification_report\n",
    "print(classification_report(ytest, yfit,\n",
    "                            target_names=faces.target_names))"
   ]
  },
  {
   "cell_type": "markdown",
   "metadata": {
    "colab_type": "text",
    "id": "I4gO62RbHzI1"
   },
   "outputs": [],
   "source": [
    "### Matrix de confusão do nosso classificador"
   ]
  },
  {
   "cell_type": "code",
   "metadata": {
    "colab": {},
    "colab_type": "code",
    "id": "rA1NUwHiHzI2",
    "outputId": "d41202df-0d35-46f8-8c21-d03bfa2b9830"
   },
   "outputs": [],
   "source": [
    "from sklearn.metrics import confusion_matrix\n",
    "mat = confusion_matrix(ytest, yfit)\n",
    "sns.heatmap(mat.T, square=True, annot=True, fmt='d', cbar=False,\n",
    "            xticklabels=faces.target_names,\n",
    "            yticklabels=faces.target_names)\n",
    "plt.xlabel('true label')\n",
    "plt.ylabel('predicted label');"
   ]
  },
  {
   "cell_type": "markdown",
   "metadata": {
    "colab_type": "text",
    "id": "zfxGxO3EHzGz"
   },
   "outputs": [],
   "source": [
    "### Modificador e traduzido por: Matheus Araujo\n",
    "\n",
    "### Referencias e autor original deste jupyter notebook:\n",
    "<!--BOOK_INFORMATION-->\n",
    "<img align=\"left\" style=\"padding-right:10px;\" src=\"https://github.com/jakevdp/PythonDataScienceHandbook/blob/master/notebooks/figures/PDSH-cover-small.png?raw=1\">\n",
    "\n",
    "[Python Data Science Handbook](http://shop.oreilly.com/product/0636920034919.do) e [on GitHub](https://github.com/jakevdp/PythonDataScienceHandbook). \n"
   ]
  },
  {
   "cell_type": "code",
   "metadata": {
    "colab": {},
    "colab_type": "code",
    "id": "oabd5fMZKwtt"
   },
   "outputs": [],
   "source": []
  }
 ],
 "metadata": {
  "anaconda-cloud": {},
  "colab": {
   "name": "aula_9_svm.ipynb",
   "provenance": []
  },
  "kernelspec": {
   "display_name": "Python 3",
   "language": "python",
   "name": "python3"
  },
  "language_info": {
   "codemirror_mode": {
    "name": "ipython",
    "version": 3
   },
   "file_extension": ".py",
   "mimetype": "text/x-python",
   "name": "python",
   "nbconvert_exporter": "python",
   "pygments_lexer": "ipython3",
   "version": "3.7.3"
  }
 },
 "nbformat": 4,
 "nbformat_minor": 1
}