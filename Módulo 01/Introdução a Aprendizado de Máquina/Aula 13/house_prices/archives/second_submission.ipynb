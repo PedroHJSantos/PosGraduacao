{
 "nbformat": 4,
 "nbformat_minor": 2,
 "metadata": {
  "language_info": {
   "name": "python",
   "codemirror_mode": {
    "name": "ipython",
    "version": 3
   },
   "version": "3.7.4-final"
  },
  "orig_nbformat": 2,
  "file_extension": ".py",
  "mimetype": "text/x-python",
  "name": "python",
  "npconvert_exporter": "python",
  "pygments_lexer": "ipython3",
  "version": 3,
  "kernelspec": {
   "name": "python37464bitposdsia37conda0a44e7fab96a4397ab9c5ee902d600c2",
   "display_name": "Python 3.7.4 64-bit ('pos-ds-ia-37': conda)"
  }
 },
 "cells": [
  {
   "cell_type": "code",
   "execution_count": 1,
   "metadata": {},
   "outputs": [],
   "source": [
    "import numpy as np\n",
    "import matplotlib.pyplot as plt\n",
    "import pandas as pd\n",
    "from sklearn.linear_model import LinearRegression"
   ]
  },
  {
   "cell_type": "code",
   "execution_count": 2,
   "metadata": {},
   "outputs": [],
   "source": [
    "pd.set_option('display.max_rows', 500)\n",
    "pd.set_option('display.max_columns', 500)"
   ]
  },
  {
   "cell_type": "code",
   "execution_count": 3,
   "metadata": {},
   "outputs": [],
   "source": [
    "dataset_train = pd.read_csv('/home/pedro/Documents/UniBH/Pós-Graduação/Aulas/Módulo 01/Introdução a Aprendizado de Máquina/Aula 13/house_prices/archives/train.csv')\n",
    "dataset_test = pd.read_csv('/home/pedro/Documents/UniBH/Pós-Graduação/Aulas/Módulo 01/Introdução a Aprendizado de Máquina/Aula 13/house_prices/archives/test.csv')"
   ]
  },
  {
   "cell_type": "code",
   "execution_count": 4,
   "metadata": {},
   "outputs": [],
   "source": [
    "df = dataset_train\n",
    "df = df.append(dataset_test, sort=False)"
   ]
  },
  {
   "cell_type": "code",
   "execution_count": 5,
   "metadata": {},
   "outputs": [
    {
     "data": {
      "text/plain": "Id                0.00\nMSSubClass        0.00\nMSZoning          0.14\nLotFrontage      16.65\nLotArea           0.00\nStreet            0.00\nAlley            93.22\nLotShape          0.00\nLandContour       0.00\nUtilities         0.07\nLotConfig         0.00\nLandSlope         0.00\nNeighborhood      0.00\nCondition1        0.00\nCondition2        0.00\nBldgType          0.00\nHouseStyle        0.00\nOverallQual       0.00\nOverallCond       0.00\nYearBuilt         0.00\nYearRemodAdd      0.00\nRoofStyle         0.00\nRoofMatl          0.00\nExterior1st       0.03\nExterior2nd       0.03\nMasVnrType        0.82\nMasVnrArea        0.79\nExterQual         0.00\nExterCond         0.00\nFoundation        0.00\nBsmtQual          2.77\nBsmtCond          2.81\nBsmtExposure      2.81\nBsmtFinType1      2.71\nBsmtFinSF1        0.03\nBsmtFinType2      2.74\nBsmtFinSF2        0.03\nBsmtUnfSF         0.03\nTotalBsmtSF       0.03\nHeating           0.00\nHeatingQC         0.00\nCentralAir        0.00\nElectrical        0.03\n1stFlrSF          0.00\n2ndFlrSF          0.00\nLowQualFinSF      0.00\nGrLivArea         0.00\nBsmtFullBath      0.07\nBsmtHalfBath      0.07\nFullBath          0.00\nHalfBath          0.00\nBedroomAbvGr      0.00\nKitchenAbvGr      0.00\nKitchenQual       0.03\nTotRmsAbvGrd      0.00\nFunctional        0.07\nFireplaces        0.00\nFireplaceQu      48.65\nGarageType        5.38\nGarageYrBlt       5.45\nGarageFinish      5.45\nGarageCars        0.03\nGarageArea        0.03\nGarageQual        5.45\nGarageCond        5.45\nPavedDrive        0.00\nWoodDeckSF        0.00\nOpenPorchSF       0.00\nEnclosedPorch     0.00\n3SsnPorch         0.00\nScreenPorch       0.00\nPoolArea          0.00\nPoolQC           99.66\nFence            80.44\nMiscFeature      96.40\nMiscVal           0.00\nMoSold            0.00\nYrSold            0.00\nSaleType          0.03\nSaleCondition     0.00\nSalePrice        49.98\ndtype: float64"
     },
     "execution_count": 5,
     "metadata": {},
     "output_type": "execute_result"
    }
   ],
   "source": [
    "round(df.isnull().mean()*100,2)"
   ]
  },
  {
   "cell_type": "markdown",
   "execution_count": null,
   "metadata": {},
   "outputs": [],
   "source": [
    "## Pré-processamento de dados"
   ]
  },
  {
   "cell_type": "code",
   "execution_count": 6,
   "metadata": {},
   "outputs": [],
   "source": [
    "# Drop features com muitos elementos nulos\n",
    "df.drop(['Alley', 'MiscFeature'], axis=1, inplace=True)"
   ]
  },
  {
   "cell_type": "code",
   "execution_count": 7,
   "metadata": {},
   "outputs": [],
   "source": [
    "# Preenchendo valores nulos com 0\n",
    "df[['MSZoning', 'LotFrontage', 'MasVnrArea', 'BsmtFinSF1', 'BsmtFinSF2', 'BsmtUnfSF', 'TotalBsmtSF', 'BsmtFullBath', 'BsmtHalfBath', 'GarageYrBlt', 'GarageYrBlt', 'GarageCars', 'GarageArea']] = df[['MSZoning', 'LotFrontage', 'MasVnrArea', 'BsmtFinSF1', 'BsmtFinSF2', 'BsmtUnfSF', 'TotalBsmtSF', 'BsmtFullBath', 'BsmtHalfBath', 'GarageYrBlt', 'GarageYrBlt', 'GarageCars', 'GarageArea']].fillna(value=0)"
   ]
  },
  {
   "cell_type": "code",
   "execution_count": 8,
   "metadata": {},
   "outputs": [],
   "source": [
    "# Preenchendo valores nulos com 'None'\n",
    "df[['Utilities', 'Exterior1st', 'Exterior2nd', 'MasVnrType', 'BsmtQual', 'BsmtCond', 'BsmtExposure', 'BsmtFinType1', 'BsmtFinType2', 'Electrical', 'KitchenQual', 'Functional', 'FireplaceQu', 'GarageType', 'GarageQual', 'GarageCond', 'PoolQC', 'Fence', 'SaleType']] = df[['Utilities', 'Exterior1st', 'Exterior2nd', 'MasVnrType', 'BsmtQual', 'BsmtCond', 'BsmtExposure', 'BsmtFinType1', 'BsmtFinType2', 'Electrical', 'KitchenQual', 'Functional', 'FireplaceQu', 'GarageType', 'GarageQual', 'GarageCond', 'PoolQC', 'Fence', 'SaleType']].fillna(value='None')"
   ]
  },
  {
   "cell_type": "code",
   "execution_count": 9,
   "metadata": {},
   "outputs": [],
   "source": [
    "# Preenchendo valores nulos com 'Unf'\n",
    "df[['GarageFinish']] = df[['GarageFinish']].fillna(value='Unf')"
   ]
  },
  {
   "cell_type": "code",
   "execution_count": 10,
   "metadata": {},
   "outputs": [
    {
     "data": {
      "text/plain": "Id                0.00\nMSSubClass        0.00\nMSZoning          0.00\nLotFrontage       0.00\nLotArea           0.00\nStreet            0.00\nLotShape          0.00\nLandContour       0.00\nUtilities         0.00\nLotConfig         0.00\nLandSlope         0.00\nNeighborhood      0.00\nCondition1        0.00\nCondition2        0.00\nBldgType          0.00\nHouseStyle        0.00\nOverallQual       0.00\nOverallCond       0.00\nYearBuilt         0.00\nYearRemodAdd      0.00\nRoofStyle         0.00\nRoofMatl          0.00\nExterior1st       0.00\nExterior2nd       0.00\nMasVnrType        0.00\nMasVnrArea        0.00\nExterQual         0.00\nExterCond         0.00\nFoundation        0.00\nBsmtQual          0.00\nBsmtCond          0.00\nBsmtExposure      0.00\nBsmtFinType1      0.00\nBsmtFinSF1        0.00\nBsmtFinType2      0.00\nBsmtFinSF2        0.00\nBsmtUnfSF         0.00\nTotalBsmtSF       0.00\nHeating           0.00\nHeatingQC         0.00\nCentralAir        0.00\nElectrical        0.00\n1stFlrSF          0.00\n2ndFlrSF          0.00\nLowQualFinSF      0.00\nGrLivArea         0.00\nBsmtFullBath      0.00\nBsmtHalfBath      0.00\nFullBath          0.00\nHalfBath          0.00\nBedroomAbvGr      0.00\nKitchenAbvGr      0.00\nKitchenQual       0.00\nTotRmsAbvGrd      0.00\nFunctional        0.00\nFireplaces        0.00\nFireplaceQu       0.00\nGarageType        0.00\nGarageYrBlt       0.00\nGarageFinish      0.00\nGarageCars        0.00\nGarageArea        0.00\nGarageQual        0.00\nGarageCond        0.00\nPavedDrive        0.00\nWoodDeckSF        0.00\nOpenPorchSF       0.00\nEnclosedPorch     0.00\n3SsnPorch         0.00\nScreenPorch       0.00\nPoolArea          0.00\nPoolQC            0.00\nFence             0.00\nMiscVal           0.00\nMoSold            0.00\nYrSold            0.00\nSaleType          0.00\nSaleCondition     0.00\nSalePrice        49.98\ndtype: float64"
     },
     "execution_count": 10,
     "metadata": {},
     "output_type": "execute_result"
    }
   ],
   "source": [
    "round(df.isnull().mean()*100,2)"
   ]
  },
  {
   "cell_type": "code",
   "execution_count": 11,
   "metadata": {},
   "outputs": [],
   "source": [
    "df = pd.get_dummies(df)"
   ]
  },
  {
   "cell_type": "code",
   "execution_count": 12,
   "metadata": {},
   "outputs": [],
   "source": [
    "dataset_train = df[df['Id'] <= 1460]\n",
    "dataset_test = df[df['Id'] > 1460]"
   ]
  },
  {
   "cell_type": "code",
   "execution_count": 13,
   "metadata": {},
   "outputs": [
    {
     "name": "stderr",
     "output_type": "stream",
     "text": "/home/pedro/anaconda3/envs/pos-ds-ia-37/lib/python3.7/site-packages/pandas/core/frame.py:4117: SettingWithCopyWarning: \nA value is trying to be set on a copy of a slice from a DataFrame\n\nSee the caveats in the documentation: http://pandas.pydata.org/pandas-docs/stable/user_guide/indexing.html#returning-a-view-versus-a-copy\n  errors=errors,\n"
    }
   ],
   "source": [
    "prices = dataset_train['SalePrice']\n",
    "dataset_train.drop('SalePrice', axis=1, inplace=True)\n",
    "dataset_test.drop('SalePrice', axis=1, inplace=True)"
   ]
  },
  {
   "cell_type": "code",
   "execution_count": 14,
   "metadata": {},
   "outputs": [
    {
     "data": {
      "text/plain": "LinearRegression(copy_X=True, fit_intercept=True, n_jobs=None, normalize=False)"
     },
     "execution_count": 14,
     "metadata": {},
     "output_type": "execute_result"
    }
   ],
   "source": [
    "linear_reg = LinearRegression()\n",
    "linear_reg.fit(dataset_train, prices)"
   ]
  },
  {
   "cell_type": "code",
   "execution_count": 15,
   "metadata": {},
   "outputs": [],
   "source": [
    "dataset_result = pd.DataFrame({'Id': [], 'SalePrice': []})\n",
    "dataset_result['Id'] = dataset_test['Id']"
   ]
  },
  {
   "cell_type": "code",
   "execution_count": 16,
   "metadata": {},
   "outputs": [],
   "source": [
    "dataset_result['SalePrice'] = linear_reg.predict(dataset_test)"
   ]
  },
  {
   "cell_type": "code",
   "execution_count": 17,
   "metadata": {},
   "outputs": [
    {
     "data": {
      "text/html": "<div>\n<style scoped>\n    .dataframe tbody tr th:only-of-type {\n        vertical-align: middle;\n    }\n\n    .dataframe tbody tr th {\n        vertical-align: top;\n    }\n\n    .dataframe thead th {\n        text-align: right;\n    }\n</style>\n<table border=\"1\" class=\"dataframe\">\n  <thead>\n    <tr style=\"text-align: right;\">\n      <th></th>\n      <th>Id</th>\n      <th>SalePrice</th>\n    </tr>\n  </thead>\n  <tbody>\n    <tr>\n      <th>0</th>\n      <td>1461</td>\n      <td>113467.091882</td>\n    </tr>\n    <tr>\n      <th>1</th>\n      <td>1462</td>\n      <td>167745.054386</td>\n    </tr>\n    <tr>\n      <th>2</th>\n      <td>1463</td>\n      <td>187963.058979</td>\n    </tr>\n    <tr>\n      <th>3</th>\n      <td>1464</td>\n      <td>197695.236317</td>\n    </tr>\n    <tr>\n      <th>4</th>\n      <td>1465</td>\n      <td>207059.868348</td>\n    </tr>\n  </tbody>\n</table>\n</div>",
      "text/plain": "     Id      SalePrice\n0  1461  113467.091882\n1  1462  167745.054386\n2  1463  187963.058979\n3  1464  197695.236317\n4  1465  207059.868348"
     },
     "execution_count": 17,
     "metadata": {},
     "output_type": "execute_result"
    }
   ],
   "source": [
    "dataset_result.head()"
   ]
  },
  {
   "cell_type": "code",
   "execution_count": 22,
   "metadata": {},
   "outputs": [
    {
     "data": {
      "text/plain": "0.9331459313860277"
     },
     "execution_count": 22,
     "metadata": {},
     "output_type": "execute_result"
    }
   ],
   "source": [
    "linear_reg.score(dataset_train, prices)"
   ]
  },
  {
   "cell_type": "code",
   "execution_count": 19,
   "metadata": {},
   "outputs": [],
   "source": [
    "#dataset_result.to_csv('/home/pedro/Documents/UniBH/Pós-Graduação/Aulas/Módulo 01/Introdução a #Aprendizado de Máquina/Aula 13/house_prices/result_second_submission.csv', index=False)"
   ]
  }
 ]
}