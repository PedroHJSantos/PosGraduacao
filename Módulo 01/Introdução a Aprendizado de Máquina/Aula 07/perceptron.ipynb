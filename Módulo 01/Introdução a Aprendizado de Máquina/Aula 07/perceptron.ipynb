{
 "nbformat": 4,
 "nbformat_minor": 2,
 "metadata": {
  "language_info": {
   "name": "python",
   "codemirror_mode": {
    "name": "ipython",
    "version": 3
   },
   "version": "3.7.4"
  },
  "orig_nbformat": 2,
  "file_extension": ".py",
  "mimetype": "text/x-python",
  "name": "python",
  "npconvert_exporter": "python",
  "pygments_lexer": "ipython3",
  "version": 3
 },
 "cells": [
  {
   "cell_type": "code",
   "execution_count": 1,
   "metadata": {},
   "outputs": [],
   "source": [
    "import pandas as pd\n",
    "import numpy as np"
   ]
  },
  {
   "cell_type": "code",
   "execution_count": 2,
   "metadata": {},
   "outputs": [],
   "source": [
    "class Perceptron(object):\n",
    "\n",
    "    # método construtor\n",
    "    def __init__(self, taxa_aprendizado, n_features, pesos=None, epocas=100):\n",
    "        self.taxa_aprendizado = taxa_aprendizado\n",
    "        if pesos is None:\n",
    "            self.pesos = np.random.uniform(-1, 1, n_features)\n",
    "        self.epocas = epocas\n",
    "\n",
    "    # x_train é um DataFrame com as features do conjunto de dados\n",
    "    # y_train é um Series com os rótulos (label) do conjunto de dados\n",
    "    def fit(self, x_train, y_train):\n",
    "        n_linhas = x_train.shape[0]\n",
    "\n",
    "        for e in range(self.epocas):\n",
    "\n",
    "            print(\"-----------------------------\")\n",
    "            print(\"Epoca: \", e)\n",
    "\n",
    "            for n in range(n_linhas):\n",
    "\n",
    "                print(\"-----------------------------\")\n",
    "                print(\"Amostra \", n)\n",
    "\n",
    "                qtd_erros = 0\n",
    "                np_x = x_train.iloc[n].values\n",
    "                np_y = y_train.iloc[n]\n",
    "\n",
    "                print(\"x_atual: \",np_x)\n",
    "                print(\"pesos: \", self.pesos)\n",
    "\n",
    "                output = np.dot(self.pesos, np_x)\n",
    "                print(\"Output: \", output)\n",
    "                heaveside = 1 if output >= 0 else 0\n",
    "                print(\"Heaveside: \", heaveside)\n",
    "\n",
    "                # houve erro\n",
    "                if heaveside != np_y:\n",
    "                    qtd_erros += 1\n",
    "                    erro = np_y - heaveside\n",
    "                    print(\"erro: \", erro)\n",
    "                    self.pesos = self.pesos + (self.taxa_aprendizado * erro * np_x)\n",
    "                    print(\"pesos atualizados: \", self.pesos)\n",
    "                else:\n",
    "                    print(\"sem erro\")\n",
    "            \n",
    "            if qtd_erros == 0:\n",
    "                break\n",
    "\n",
    "\n",
    "    def predict(self, x_teste):\n",
    "        np_x = x_teste.values\n",
    "        prediction = []\n",
    "\n",
    "        for x in np_x:\n",
    "            if self.pesos.dot(x) >= 0:\n",
    "                prediction.append(1)\n",
    "            else:\n",
    "                prediction.append(0)"
   ]
  },
  {
   "cell_type": "code",
   "execution_count": 3,
   "metadata": {},
   "outputs": [
    {
     "data": {
      "text/html": "<div>\n<style scoped>\n    .dataframe tbody tr th:only-of-type {\n        vertical-align: middle;\n    }\n\n    .dataframe tbody tr th {\n        vertical-align: top;\n    }\n\n    .dataframe thead th {\n        text-align: right;\n    }\n</style>\n<table border=\"1\" class=\"dataframe\">\n  <thead>\n    <tr style=\"text-align: right;\">\n      <th></th>\n      <th>x1</th>\n      <th>x2</th>\n      <th>classe</th>\n    </tr>\n  </thead>\n  <tbody>\n    <tr>\n      <th>0</th>\n      <td>0.5</td>\n      <td>0.70</td>\n      <td>1</td>\n    </tr>\n    <tr>\n      <th>1</th>\n      <td>-0.5</td>\n      <td>0.30</td>\n      <td>0</td>\n    </tr>\n    <tr>\n      <th>2</th>\n      <td>-0.1</td>\n      <td>-0.80</td>\n      <td>0</td>\n    </tr>\n    <tr>\n      <th>3</th>\n      <td>0.1</td>\n      <td>-0.45</td>\n      <td>1</td>\n    </tr>\n  </tbody>\n</table>\n</div>",
      "text/plain": "    x1    x2  classe\n0  0.5  0.70       1\n1 -0.5  0.30       0\n2 -0.1 -0.80       0\n3  0.1 -0.45       1"
     },
     "execution_count": 3,
     "metadata": {},
     "output_type": "execute_result"
    }
   ],
   "source": [
    "df = pd.DataFrame([])\n",
    "\n",
    "df[\"x1\"] = [0.5, -0.5, -0.1, 0.1]\n",
    "df[\"x2\"] = [0.7, 0.3, -0.8, -0.45]\n",
    "df[\"classe\"] = [1, 0, 0, 1]\n",
    "df"
   ]
  },
  {
   "cell_type": "code",
   "execution_count": 4,
   "metadata": {},
   "outputs": [],
   "source": [
    "x_train = df[[\"x1\", \"x2\"]]\n",
    "y_train = df[\"classe\"]"
   ]
  },
  {
   "cell_type": "code",
   "execution_count": 13,
   "metadata": {},
   "outputs": [],
   "source": [
    "perceptron = Perceptron(taxa_aprendizado=0.5, n_features=x_train.shape[1])"
   ]
  },
  {
   "cell_type": "code",
   "execution_count": 14,
   "metadata": {},
   "outputs": [
    {
     "name": "stdout",
     "output_type": "stream",
     "text": "-----------------------------\nEpoca:  0\n-----------------------------\nAmostra  0\nx_atual:  [0.5 0.7]\npesos:  [0.86752119 0.46493075]\nOutput:  0.7592121153069211\nHeaveside:  1\nsem erro\n-----------------------------\nAmostra  1\nx_atual:  [-0.5  0.3]\npesos:  [0.86752119 0.46493075]\nOutput:  -0.29428136900846835\nHeaveside:  0\nsem erro\n-----------------------------\nAmostra  2\nx_atual:  [-0.1 -0.8]\npesos:  [0.86752119 0.46493075]\nOutput:  -0.45869671561836317\nHeaveside:  0\nsem erro\n-----------------------------\nAmostra  3\nx_atual:  [ 0.1  -0.45]\npesos:  [0.86752119 0.46493075]\nOutput:  -0.12246671725470297\nHeaveside:  0\nerro:  1\npesos atualizados:  [0.91752119 0.23993075]\n-----------------------------\nEpoca:  1\n-----------------------------\nAmostra  0\nx_atual:  [0.5 0.7]\npesos:  [0.91752119 0.23993075]\nOutput:  0.6267121153069212\nHeaveside:  1\nsem erro\n-----------------------------\nAmostra  1\nx_atual:  [-0.5  0.3]\npesos:  [0.91752119 0.23993075]\nOutput:  -0.3867813690084683\nHeaveside:  0\nsem erro\n-----------------------------\nAmostra  2\nx_atual:  [-0.1 -0.8]\npesos:  [0.91752119 0.23993075]\nOutput:  -0.2836967156183632\nHeaveside:  0\nsem erro\n-----------------------------\nAmostra  3\nx_atual:  [ 0.1  -0.45]\npesos:  [0.91752119 0.23993075]\nOutput:  -0.016216717254702945\nHeaveside:  0\nerro:  1\npesos atualizados:  [0.96752119 0.01493075]\n-----------------------------\nEpoca:  2\n-----------------------------\nAmostra  0\nx_atual:  [0.5 0.7]\npesos:  [0.96752119 0.01493075]\nOutput:  0.4942121153069212\nHeaveside:  1\nsem erro\n-----------------------------\nAmostra  1\nx_atual:  [-0.5  0.3]\npesos:  [0.96752119 0.01493075]\nOutput:  -0.47928136900846835\nHeaveside:  0\nsem erro\n-----------------------------\nAmostra  2\nx_atual:  [-0.1 -0.8]\npesos:  [0.96752119 0.01493075]\nOutput:  -0.10869671561836315\nHeaveside:  0\nsem erro\n-----------------------------\nAmostra  3\nx_atual:  [ 0.1  -0.45]\npesos:  [0.96752119 0.01493075]\nOutput:  0.09003328274529707\nHeaveside:  1\nsem erro\n"
    }
   ],
   "source": [
    "perceptron.fit(x_train, y_train)"
   ]
  },
  {
   "cell_type": "code",
   "execution_count": 15,
   "metadata": {},
   "outputs": [],
   "source": [
    "df_sample = df[[\"x1\", \"x2\"]]"
   ]
  },
  {
   "cell_type": "code",
   "execution_count": 16,
   "metadata": {},
   "outputs": [
    {
     "data": {
      "text/html": "<div>\n<style scoped>\n    .dataframe tbody tr th:only-of-type {\n        vertical-align: middle;\n    }\n\n    .dataframe tbody tr th {\n        vertical-align: top;\n    }\n\n    .dataframe thead th {\n        text-align: right;\n    }\n</style>\n<table border=\"1\" class=\"dataframe\">\n  <thead>\n    <tr style=\"text-align: right;\">\n      <th></th>\n      <th>x1</th>\n      <th>x2</th>\n      <th>classe</th>\n    </tr>\n  </thead>\n  <tbody>\n    <tr>\n      <th>0</th>\n      <td>0.5</td>\n      <td>0.70</td>\n      <td>1</td>\n    </tr>\n    <tr>\n      <th>1</th>\n      <td>-0.5</td>\n      <td>0.30</td>\n      <td>0</td>\n    </tr>\n    <tr>\n      <th>2</th>\n      <td>-0.1</td>\n      <td>-0.80</td>\n      <td>0</td>\n    </tr>\n    <tr>\n      <th>3</th>\n      <td>0.1</td>\n      <td>-0.45</td>\n      <td>1</td>\n    </tr>\n  </tbody>\n</table>\n</div>",
      "text/plain": "    x1    x2  classe\n0  0.5  0.70       1\n1 -0.5  0.30       0\n2 -0.1 -0.80       0\n3  0.1 -0.45       1"
     },
     "execution_count": 16,
     "metadata": {},
     "output_type": "execute_result"
    }
   ],
   "source": [
    "perceptron.predict(df_sample)\n",
    "df"
   ]
  },
  {
   "cell_type": "code",
   "execution_count": null,
   "metadata": {},
   "outputs": [],
   "source": []
  }
 ]
}